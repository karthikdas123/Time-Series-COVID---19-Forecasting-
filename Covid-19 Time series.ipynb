{
 "cells": [
  {
   "cell_type": "markdown",
   "id": "424f38b4",
   "metadata": {},
   "source": [
    "**Time Series COVID - 19 Forecasting** : Living with the virus may be the new normal , but analysing the trends of spread of coronavirus and it's contagiousness can\n",
    "help mitigate its effects . Analysis and visualization of virus spread data can reveal meaningful trends for various geographical locations . Moreover , statistical\n",
    "and ML modelling of everyday cases and deaths can provide useful insights into the future severity of the viral disease ."
   ]
  },
  {
   "cell_type": "markdown",
   "id": "90b5e5fe",
   "metadata": {},
   "source": [
    "# Exploratory Time - Series Data Analysis and Visualization"
   ]
  },
  {
   "cell_type": "markdown",
   "id": "7e3b6096",
   "metadata": {},
   "source": [
    "\n",
    "\n",
    "So , let us first import the latest COVID - 19 data so we have more data and features to work with ."
   ]
  },
  {
   "cell_type": "code",
   "execution_count": 1,
   "id": "e4179ab5",
   "metadata": {},
   "outputs": [],
   "source": [
    "import warnings\n",
    "warnings.filterwarnings(\"ignore\")\n",
    "import matplotlib.pyplot as plt"
   ]
  },
  {
   "cell_type": "code",
   "execution_count": 2,
   "id": "3ed6e18c",
   "metadata": {},
   "outputs": [],
   "source": [
    "#loading the dataset\n",
    "import pandas as pd\n",
    "Confirmed =pd.read_csv(\"time_series_covid19_confirmed_global.csv\")\n",
    "Deaths =pd.read_csv(\"time_series_covid19_deaths_global.csv\")\n",
    "Recovered=pd.read_csv(\"time_series_covid19_recovered_global.csv\")"
   ]
  },
  {
   "cell_type": "code",
   "execution_count": 3,
   "id": "1ab2572b",
   "metadata": {},
   "outputs": [
    {
     "data": {
      "text/plain": [
       "(                        0        1        2        3        4    \\\n",
       " Province/State          NaN      NaN      NaN      NaN      NaN   \n",
       " Country/Region  Afghanistan  Albania  Algeria  Andorra   Angola   \n",
       " Lat                33.93911  41.1533  28.0339  42.5063 -11.2027   \n",
       " Long              67.709953  20.1683   1.6596   1.5218  17.8739   \n",
       " 1/22/20                   0        0        0        0        0   \n",
       " \n",
       "                                 5          6        7    \\\n",
       " Province/State                  NaN        NaN      NaN   \n",
       " Country/Region  Antigua and Barbuda  Argentina  Armenia   \n",
       " Lat                         17.0608   -38.4161  40.0691   \n",
       " Long                       -61.7964   -63.6167  45.0382   \n",
       " 1/22/20                           0          0        0   \n",
       " \n",
       "                                          8                9    ...  \\\n",
       " Province/State  Australian Capital Territory  New South Wales  ...   \n",
       " Country/Region                     Australia        Australia  ...   \n",
       " Lat                                 -35.4735         -33.8688  ...   \n",
       " Long                                149.0124         151.2093  ...   \n",
       " 1/22/20                                    0                0  ...   \n",
       " \n",
       "                            256      257         258        259         260  \\\n",
       " Province/State             NaN      NaN         NaN        NaN         NaN   \n",
       " Country/Region  United Kingdom  Uruguay  Uzbekistan  Venezuela     Vietnam   \n",
       " Lat                    55.3781 -32.5228   41.377491     6.4238   14.058324   \n",
       " Long                    -3.436 -55.7658   64.585262   -66.5897  108.277199   \n",
       " 1/22/20                      0        0           0          0           0   \n",
       " \n",
       "                                261             262        263        264  \\\n",
       " Province/State                 NaN             NaN        NaN        NaN   \n",
       " Country/Region  West Bank and Gaza  Western Sahara      Yemen     Zambia   \n",
       " Lat                        31.9522         24.2155  15.552727 -13.133897   \n",
       " Long                       35.2332        -12.8858  48.516388  27.849332   \n",
       " 1/22/20                          0               0          0          0   \n",
       " \n",
       "                       265  \n",
       " Province/State        NaN  \n",
       " Country/Region   Zimbabwe  \n",
       " Lat            -19.015438  \n",
       " Long            29.154857  \n",
       " 1/22/20                 0  \n",
       " \n",
       " [5 rows x 266 columns],\n",
       "                         0        1        2        3        4    \\\n",
       " Province/State          NaN      NaN      NaN      NaN      NaN   \n",
       " Country/Region  Afghanistan  Albania  Algeria  Andorra   Angola   \n",
       " Lat                33.93911  41.1533  28.0339  42.5063 -11.2027   \n",
       " Long              67.709953  20.1683   1.6596   1.5218  17.8739   \n",
       " 1/22/20                   0        0        0        0        0   \n",
       " \n",
       "                                 5          6        7    \\\n",
       " Province/State                  NaN        NaN      NaN   \n",
       " Country/Region  Antigua and Barbuda  Argentina  Armenia   \n",
       " Lat                         17.0608   -38.4161  40.0691   \n",
       " Long                       -61.7964   -63.6167  45.0382   \n",
       " 1/22/20                           0          0        0   \n",
       " \n",
       "                                          8                9    ...  \\\n",
       " Province/State  Australian Capital Territory  New South Wales  ...   \n",
       " Country/Region                     Australia        Australia  ...   \n",
       " Lat                                 -35.4735         -33.8688  ...   \n",
       " Long                                149.0124         151.2093  ...   \n",
       " 1/22/20                                    0                0  ...   \n",
       " \n",
       "                            256      257         258        259         260  \\\n",
       " Province/State             NaN      NaN         NaN        NaN         NaN   \n",
       " Country/Region  United Kingdom  Uruguay  Uzbekistan  Venezuela     Vietnam   \n",
       " Lat                    55.3781 -32.5228   41.377491     6.4238   14.058324   \n",
       " Long                    -3.436 -55.7658   64.585262   -66.5897  108.277199   \n",
       " 1/22/20                      0        0           0          0           0   \n",
       " \n",
       "                                261             262        263        264  \\\n",
       " Province/State                 NaN             NaN        NaN        NaN   \n",
       " Country/Region  West Bank and Gaza  Western Sahara      Yemen     Zambia   \n",
       " Lat                        31.9522         24.2155  15.552727 -13.133897   \n",
       " Long                       35.2332        -12.8858  48.516388  27.849332   \n",
       " 1/22/20                          0               0          0          0   \n",
       " \n",
       "                       265  \n",
       " Province/State        NaN  \n",
       " Country/Region   Zimbabwe  \n",
       " Lat            -19.015438  \n",
       " Long            29.154857  \n",
       " 1/22/20                 0  \n",
       " \n",
       " [5 rows x 266 columns],\n",
       "                         0        1        2        3        4    \\\n",
       " Province/State          NaN      NaN      NaN      NaN      NaN   \n",
       " Country/Region  Afghanistan  Albania  Algeria  Andorra   Angola   \n",
       " Lat                33.93911  41.1533  28.0339  42.5063 -11.2027   \n",
       " Long              67.709953  20.1683   1.6596   1.5218  17.8739   \n",
       " 1/22/20                   0        0        0        0        0   \n",
       " \n",
       "                                 5          6        7    \\\n",
       " Province/State                  NaN        NaN      NaN   \n",
       " Country/Region  Antigua and Barbuda  Argentina  Armenia   \n",
       " Lat                         17.0608   -38.4161  40.0691   \n",
       " Long                       -61.7964   -63.6167  45.0382   \n",
       " 1/22/20                           0          0        0   \n",
       " \n",
       "                                          8                9    ...  \\\n",
       " Province/State  Australian Capital Territory  New South Wales  ...   \n",
       " Country/Region                     Australia        Australia  ...   \n",
       " Lat                                 -35.4735         -33.8688  ...   \n",
       " Long                                149.0124         151.2093  ...   \n",
       " 1/22/20                                    0                0  ...   \n",
       " \n",
       "                            243      244         245        246         247  \\\n",
       " Province/State             NaN      NaN         NaN        NaN         NaN   \n",
       " Country/Region  United Kingdom  Uruguay  Uzbekistan  Venezuela     Vietnam   \n",
       " Lat                    55.3781 -32.5228   41.377491     6.4238   14.058324   \n",
       " Long                    -3.436 -55.7658   64.585262   -66.5897  108.277199   \n",
       " 1/22/20                      0        0           0          0           0   \n",
       " \n",
       "                                248             249        250        251  \\\n",
       " Province/State                 NaN             NaN        NaN        NaN   \n",
       " Country/Region  West Bank and Gaza  Western Sahara      Yemen     Zambia   \n",
       " Lat                        31.9522         24.2155  15.552727 -13.133897   \n",
       " Long                       35.2332        -12.8858  48.516388  27.849332   \n",
       " 1/22/20                          0               0          0          0   \n",
       " \n",
       "                       252  \n",
       " Province/State        NaN  \n",
       " Country/Region   Zimbabwe  \n",
       " Lat            -19.015438  \n",
       " Long            29.154857  \n",
       " 1/22/20                 0  \n",
       " \n",
       " [5 rows x 253 columns])"
      ]
     },
     "execution_count": 3,
     "metadata": {},
     "output_type": "execute_result"
    }
   ],
   "source": [
    "#the transpose of three datasets\n",
    "Confirmed.T.head(),Deaths.T.head(),Recovered.T.head()"
   ]
  },
  {
   "cell_type": "code",
   "execution_count": 4,
   "id": "d3dc77fc",
   "metadata": {},
   "outputs": [
    {
     "data": {
      "text/plain": [
       "China             33\n",
       "Canada            14\n",
       "United Kingdom    11\n",
       "France            11\n",
       "Australia          8\n",
       "                  ..\n",
       "Greece             1\n",
       "Grenada            1\n",
       "Guatemala          1\n",
       "Guinea             1\n",
       "Zimbabwe           1\n",
       "Name: Country/Region, Length: 188, dtype: int64"
      ]
     },
     "execution_count": 4,
     "metadata": {},
     "output_type": "execute_result"
    }
   ],
   "source": [
    "Confirmed['Country/Region'].value_counts()"
   ]
  },
  {
   "cell_type": "markdown",
   "id": "da483e26",
   "metadata": {},
   "source": [
    "#Train and test split for Time series"
   ]
  },
  {
   "cell_type": "code",
   "execution_count": 5,
   "id": "df57eeb0",
   "metadata": {},
   "outputs": [
    {
     "name": "stdout",
     "output_type": "stream",
     "text": [
      "188 ['Afghanistan' 'Albania' 'Algeria' 'Andorra' 'Angola'\n",
      " 'Antigua and Barbuda' 'Argentina' 'Armenia' 'Australia' 'Austria'\n",
      " 'Azerbaijan' 'Bahamas' 'Bahrain' 'Bangladesh' 'Barbados' 'Belarus'\n",
      " 'Belgium' 'Belize' 'Benin' 'Bhutan' 'Bolivia' 'Bosnia and Herzegovina'\n",
      " 'Botswana' 'Brazil' 'Brunei' 'Bulgaria' 'Burkina Faso' 'Burma' 'Burundi'\n",
      " 'Cabo Verde' 'Cambodia' 'Cameroon' 'Canada' 'Central African Republic'\n",
      " 'Chad' 'Chile' 'China' 'Colombia' 'Comoros' 'Congo (Brazzaville)'\n",
      " 'Congo (Kinshasa)' 'Costa Rica' \"Cote d'Ivoire\" 'Croatia' 'Cuba' 'Cyprus'\n",
      " 'Czechia' 'Denmark' 'Diamond Princess' 'Djibouti' 'Dominica'\n",
      " 'Dominican Republic' 'Ecuador' 'Egypt' 'El Salvador' 'Equatorial Guinea'\n",
      " 'Eritrea' 'Estonia' 'Eswatini' 'Ethiopia' 'Fiji' 'Finland' 'France'\n",
      " 'Gabon' 'Gambia' 'Georgia' 'Germany' 'Ghana' 'Greece' 'Grenada'\n",
      " 'Guatemala' 'Guinea' 'Guinea-Bissau' 'Guyana' 'Haiti' 'Holy See'\n",
      " 'Honduras' 'Hungary' 'Iceland' 'India' 'Indonesia' 'Iran' 'Iraq'\n",
      " 'Ireland' 'Israel' 'Italy' 'Jamaica' 'Japan' 'Jordan' 'Kazakhstan'\n",
      " 'Kenya' 'Korea, South' 'Kosovo' 'Kuwait' 'Kyrgyzstan' 'Laos' 'Latvia'\n",
      " 'Lebanon' 'Lesotho' 'Liberia' 'Libya' 'Liechtenstein' 'Lithuania'\n",
      " 'Luxembourg' 'MS Zaandam' 'Madagascar' 'Malawi' 'Malaysia' 'Maldives'\n",
      " 'Mali' 'Malta' 'Mauritania' 'Mauritius' 'Mexico' 'Moldova' 'Monaco'\n",
      " 'Mongolia' 'Montenegro' 'Morocco' 'Mozambique' 'Namibia' 'Nepal'\n",
      " 'Netherlands' 'New Zealand' 'Nicaragua' 'Niger' 'Nigeria'\n",
      " 'North Macedonia' 'Norway' 'Oman' 'Pakistan' 'Panama' 'Papua New Guinea'\n",
      " 'Paraguay' 'Peru' 'Philippines' 'Poland' 'Portugal' 'Qatar' 'Romania'\n",
      " 'Russia' 'Rwanda' 'Saint Kitts and Nevis' 'Saint Lucia'\n",
      " 'Saint Vincent and the Grenadines' 'San Marino' 'Sao Tome and Principe'\n",
      " 'Saudi Arabia' 'Senegal' 'Serbia' 'Seychelles' 'Sierra Leone' 'Singapore'\n",
      " 'Slovakia' 'Slovenia' 'Somalia' 'South Africa' 'South Sudan' 'Spain'\n",
      " 'Sri Lanka' 'Sudan' 'Suriname' 'Sweden' 'Switzerland' 'Syria' 'Taiwan*'\n",
      " 'Tajikistan' 'Tanzania' 'Thailand' 'Timor-Leste' 'Togo'\n",
      " 'Trinidad and Tobago' 'Tunisia' 'Turkey' 'US' 'Uganda' 'Ukraine'\n",
      " 'United Arab Emirates' 'United Kingdom' 'Uruguay' 'Uzbekistan'\n",
      " 'Venezuela' 'Vietnam' 'West Bank and Gaza' 'Western Sahara' 'Yemen'\n",
      " 'Zambia' 'Zimbabwe']\n"
     ]
    }
   ],
   "source": [
    "print(Confirmed['Country/Region'].nunique(),Confirmed['Country/Region'].unique())"
   ]
  },
  {
   "cell_type": "code",
   "execution_count": 6,
   "id": "c381f18d",
   "metadata": {},
   "outputs": [
    {
     "name": "stdout",
     "output_type": "stream",
     "text": [
      "                      143\n",
      "Province/State        NaN\n",
      "Country/Region      India\n",
      "Lat             20.593684\n",
      "Long             78.96288\n",
      "1/22/20                 0\n",
      "...                   ...\n",
      "9/17/20           5214677\n",
      "9/18/20           5308014\n",
      "9/19/20           5400619\n",
      "9/20/20           5487580\n",
      "9/21/20           5487580\n",
      "\n",
      "[248 rows x 1 columns]\n",
      "                      143\n",
      "Province/State        NaN\n",
      "Country/Region      India\n",
      "Lat             20.593684\n",
      "Long             78.96288\n",
      "1/22/20                 0\n",
      "...                   ...\n",
      "9/17/20             84372\n",
      "9/18/20             85619\n",
      "9/19/20             86752\n",
      "9/20/20             87882\n",
      "9/21/20             87882\n",
      "\n",
      "[248 rows x 1 columns]\n",
      "                      130\n",
      "Province/State        NaN\n",
      "Country/Region      India\n",
      "Lat             20.593684\n",
      "Long             78.96288\n",
      "1/22/20                 0\n",
      "...                   ...\n",
      "9/17/20           4112551\n",
      "9/18/20           4208431\n",
      "9/19/20           4303043\n",
      "9/20/20           4396399\n",
      "9/21/20           4396399\n",
      "\n",
      "[248 rows x 1 columns]\n"
     ]
    }
   ],
   "source": [
    "#Filter the 3 dataframe for data of India only\n",
    "india_Confirmed=Confirmed[Confirmed['Country/Region']==\"India\"].T\n",
    "india_Deaths=Deaths[Deaths['Country/Region']==\"India\"].T\n",
    "india_Recovered=Recovered[Recovered['Country/Region']==\"India\"].T\n",
    "print(india_Confirmed)\n",
    "print(india_Deaths)\n",
    "print(india_Recovered)"
   ]
  },
  {
   "cell_type": "code",
   "execution_count": 7,
   "id": "4fa7adac",
   "metadata": {},
   "outputs": [],
   "source": [
    "india_join=india_Confirmed.join(india_Deaths,how='left',lsuffix='_Confirmed',rsuffix='_Deaths')\n",
    "india=india_join.join(india_Recovered,how='left',lsuffix='_',rsuffix='_Recovered')\n",
    "india=india.rename(columns={\"143_Confirmed\":\"Confirmed\",\"143_Deaths\":\"Deaths\",130:\"Recovered\"})"
   ]
  },
  {
   "cell_type": "code",
   "execution_count": 8,
   "id": "9cac6381",
   "metadata": {},
   "outputs": [
    {
     "data": {
      "text/html": [
       "<div>\n",
       "<style scoped>\n",
       "    .dataframe tbody tr th:only-of-type {\n",
       "        vertical-align: middle;\n",
       "    }\n",
       "\n",
       "    .dataframe tbody tr th {\n",
       "        vertical-align: top;\n",
       "    }\n",
       "\n",
       "    .dataframe thead th {\n",
       "        text-align: right;\n",
       "    }\n",
       "</style>\n",
       "<table border=\"1\" class=\"dataframe\">\n",
       "  <thead>\n",
       "    <tr style=\"text-align: right;\">\n",
       "      <th></th>\n",
       "      <th>Confirmed</th>\n",
       "      <th>Deaths</th>\n",
       "      <th>Recovered</th>\n",
       "    </tr>\n",
       "  </thead>\n",
       "  <tbody>\n",
       "    <tr>\n",
       "      <th>Province/State</th>\n",
       "      <td>NaN</td>\n",
       "      <td>NaN</td>\n",
       "      <td>NaN</td>\n",
       "    </tr>\n",
       "    <tr>\n",
       "      <th>Country/Region</th>\n",
       "      <td>India</td>\n",
       "      <td>India</td>\n",
       "      <td>India</td>\n",
       "    </tr>\n",
       "    <tr>\n",
       "      <th>Lat</th>\n",
       "      <td>20.593684</td>\n",
       "      <td>20.593684</td>\n",
       "      <td>20.593684</td>\n",
       "    </tr>\n",
       "    <tr>\n",
       "      <th>Long</th>\n",
       "      <td>78.96288</td>\n",
       "      <td>78.96288</td>\n",
       "      <td>78.96288</td>\n",
       "    </tr>\n",
       "    <tr>\n",
       "      <th>1/22/20</th>\n",
       "      <td>0</td>\n",
       "      <td>0</td>\n",
       "      <td>0</td>\n",
       "    </tr>\n",
       "    <tr>\n",
       "      <th>...</th>\n",
       "      <td>...</td>\n",
       "      <td>...</td>\n",
       "      <td>...</td>\n",
       "    </tr>\n",
       "    <tr>\n",
       "      <th>9/17/20</th>\n",
       "      <td>5214677</td>\n",
       "      <td>84372</td>\n",
       "      <td>4112551</td>\n",
       "    </tr>\n",
       "    <tr>\n",
       "      <th>9/18/20</th>\n",
       "      <td>5308014</td>\n",
       "      <td>85619</td>\n",
       "      <td>4208431</td>\n",
       "    </tr>\n",
       "    <tr>\n",
       "      <th>9/19/20</th>\n",
       "      <td>5400619</td>\n",
       "      <td>86752</td>\n",
       "      <td>4303043</td>\n",
       "    </tr>\n",
       "    <tr>\n",
       "      <th>9/20/20</th>\n",
       "      <td>5487580</td>\n",
       "      <td>87882</td>\n",
       "      <td>4396399</td>\n",
       "    </tr>\n",
       "    <tr>\n",
       "      <th>9/21/20</th>\n",
       "      <td>5487580</td>\n",
       "      <td>87882</td>\n",
       "      <td>4396399</td>\n",
       "    </tr>\n",
       "  </tbody>\n",
       "</table>\n",
       "<p>248 rows × 3 columns</p>\n",
       "</div>"
      ],
      "text/plain": [
       "                Confirmed     Deaths  Recovered\n",
       "Province/State        NaN        NaN        NaN\n",
       "Country/Region      India      India      India\n",
       "Lat             20.593684  20.593684  20.593684\n",
       "Long             78.96288   78.96288   78.96288\n",
       "1/22/20                 0          0          0\n",
       "...                   ...        ...        ...\n",
       "9/17/20           5214677      84372    4112551\n",
       "9/18/20           5308014      85619    4208431\n",
       "9/19/20           5400619      86752    4303043\n",
       "9/20/20           5487580      87882    4396399\n",
       "9/21/20           5487580      87882    4396399\n",
       "\n",
       "[248 rows x 3 columns]"
      ]
     },
     "execution_count": 8,
     "metadata": {},
     "output_type": "execute_result"
    }
   ],
   "source": [
    "#view the joined data\n",
    "india"
   ]
  },
  {
   "cell_type": "code",
   "execution_count": 9,
   "id": "ea6a9fc8",
   "metadata": {},
   "outputs": [],
   "source": [
    "#Exclude the less significant rowa of the data\n",
    "india=india[4:]"
   ]
  },
  {
   "cell_type": "code",
   "execution_count": 10,
   "id": "782e03f9",
   "metadata": {},
   "outputs": [
    {
     "data": {
      "text/html": [
       "<div>\n",
       "<style scoped>\n",
       "    .dataframe tbody tr th:only-of-type {\n",
       "        vertical-align: middle;\n",
       "    }\n",
       "\n",
       "    .dataframe tbody tr th {\n",
       "        vertical-align: top;\n",
       "    }\n",
       "\n",
       "    .dataframe thead th {\n",
       "        text-align: right;\n",
       "    }\n",
       "</style>\n",
       "<table border=\"1\" class=\"dataframe\">\n",
       "  <thead>\n",
       "    <tr style=\"text-align: right;\">\n",
       "      <th></th>\n",
       "      <th>Confirmed</th>\n",
       "      <th>Deaths</th>\n",
       "      <th>Recovered</th>\n",
       "    </tr>\n",
       "  </thead>\n",
       "  <tbody>\n",
       "    <tr>\n",
       "      <th>1/22/20</th>\n",
       "      <td>0</td>\n",
       "      <td>0</td>\n",
       "      <td>0</td>\n",
       "    </tr>\n",
       "    <tr>\n",
       "      <th>1/23/20</th>\n",
       "      <td>0</td>\n",
       "      <td>0</td>\n",
       "      <td>0</td>\n",
       "    </tr>\n",
       "    <tr>\n",
       "      <th>1/24/20</th>\n",
       "      <td>0</td>\n",
       "      <td>0</td>\n",
       "      <td>0</td>\n",
       "    </tr>\n",
       "    <tr>\n",
       "      <th>1/25/20</th>\n",
       "      <td>0</td>\n",
       "      <td>0</td>\n",
       "      <td>0</td>\n",
       "    </tr>\n",
       "    <tr>\n",
       "      <th>1/26/20</th>\n",
       "      <td>0</td>\n",
       "      <td>0</td>\n",
       "      <td>0</td>\n",
       "    </tr>\n",
       "    <tr>\n",
       "      <th>...</th>\n",
       "      <td>...</td>\n",
       "      <td>...</td>\n",
       "      <td>...</td>\n",
       "    </tr>\n",
       "    <tr>\n",
       "      <th>9/17/20</th>\n",
       "      <td>5214677</td>\n",
       "      <td>84372</td>\n",
       "      <td>4112551</td>\n",
       "    </tr>\n",
       "    <tr>\n",
       "      <th>9/18/20</th>\n",
       "      <td>5308014</td>\n",
       "      <td>85619</td>\n",
       "      <td>4208431</td>\n",
       "    </tr>\n",
       "    <tr>\n",
       "      <th>9/19/20</th>\n",
       "      <td>5400619</td>\n",
       "      <td>86752</td>\n",
       "      <td>4303043</td>\n",
       "    </tr>\n",
       "    <tr>\n",
       "      <th>9/20/20</th>\n",
       "      <td>5487580</td>\n",
       "      <td>87882</td>\n",
       "      <td>4396399</td>\n",
       "    </tr>\n",
       "    <tr>\n",
       "      <th>9/21/20</th>\n",
       "      <td>5487580</td>\n",
       "      <td>87882</td>\n",
       "      <td>4396399</td>\n",
       "    </tr>\n",
       "  </tbody>\n",
       "</table>\n",
       "<p>244 rows × 3 columns</p>\n",
       "</div>"
      ],
      "text/plain": [
       "        Confirmed Deaths Recovered\n",
       "1/22/20         0      0         0\n",
       "1/23/20         0      0         0\n",
       "1/24/20         0      0         0\n",
       "1/25/20         0      0         0\n",
       "1/26/20         0      0         0\n",
       "...           ...    ...       ...\n",
       "9/17/20   5214677  84372   4112551\n",
       "9/18/20   5308014  85619   4208431\n",
       "9/19/20   5400619  86752   4303043\n",
       "9/20/20   5487580  87882   4396399\n",
       "9/21/20   5487580  87882   4396399\n",
       "\n",
       "[244 rows x 3 columns]"
      ]
     },
     "execution_count": 10,
     "metadata": {},
     "output_type": "execute_result"
    }
   ],
   "source": [
    "india\n"
   ]
  },
  {
   "cell_type": "code",
   "execution_count": 11,
   "id": "2a43cc82",
   "metadata": {},
   "outputs": [],
   "source": [
    "india.index=pd.to_datetime(india.index)"
   ]
  },
  {
   "cell_type": "code",
   "execution_count": 12,
   "id": "172570f0",
   "metadata": {},
   "outputs": [
    {
     "data": {
      "text/html": [
       "<div>\n",
       "<style scoped>\n",
       "    .dataframe tbody tr th:only-of-type {\n",
       "        vertical-align: middle;\n",
       "    }\n",
       "\n",
       "    .dataframe tbody tr th {\n",
       "        vertical-align: top;\n",
       "    }\n",
       "\n",
       "    .dataframe thead th {\n",
       "        text-align: right;\n",
       "    }\n",
       "</style>\n",
       "<table border=\"1\" class=\"dataframe\">\n",
       "  <thead>\n",
       "    <tr style=\"text-align: right;\">\n",
       "      <th></th>\n",
       "      <th>Confirmed</th>\n",
       "      <th>Deaths</th>\n",
       "      <th>Recovered</th>\n",
       "    </tr>\n",
       "  </thead>\n",
       "  <tbody>\n",
       "    <tr>\n",
       "      <th>2020-01-22</th>\n",
       "      <td>0</td>\n",
       "      <td>0</td>\n",
       "      <td>0</td>\n",
       "    </tr>\n",
       "    <tr>\n",
       "      <th>2020-01-23</th>\n",
       "      <td>0</td>\n",
       "      <td>0</td>\n",
       "      <td>0</td>\n",
       "    </tr>\n",
       "    <tr>\n",
       "      <th>2020-01-24</th>\n",
       "      <td>0</td>\n",
       "      <td>0</td>\n",
       "      <td>0</td>\n",
       "    </tr>\n",
       "    <tr>\n",
       "      <th>2020-01-25</th>\n",
       "      <td>0</td>\n",
       "      <td>0</td>\n",
       "      <td>0</td>\n",
       "    </tr>\n",
       "    <tr>\n",
       "      <th>2020-01-26</th>\n",
       "      <td>0</td>\n",
       "      <td>0</td>\n",
       "      <td>0</td>\n",
       "    </tr>\n",
       "    <tr>\n",
       "      <th>...</th>\n",
       "      <td>...</td>\n",
       "      <td>...</td>\n",
       "      <td>...</td>\n",
       "    </tr>\n",
       "    <tr>\n",
       "      <th>2020-09-17</th>\n",
       "      <td>5214677</td>\n",
       "      <td>84372</td>\n",
       "      <td>4112551</td>\n",
       "    </tr>\n",
       "    <tr>\n",
       "      <th>2020-09-18</th>\n",
       "      <td>5308014</td>\n",
       "      <td>85619</td>\n",
       "      <td>4208431</td>\n",
       "    </tr>\n",
       "    <tr>\n",
       "      <th>2020-09-19</th>\n",
       "      <td>5400619</td>\n",
       "      <td>86752</td>\n",
       "      <td>4303043</td>\n",
       "    </tr>\n",
       "    <tr>\n",
       "      <th>2020-09-20</th>\n",
       "      <td>5487580</td>\n",
       "      <td>87882</td>\n",
       "      <td>4396399</td>\n",
       "    </tr>\n",
       "    <tr>\n",
       "      <th>2020-09-21</th>\n",
       "      <td>5487580</td>\n",
       "      <td>87882</td>\n",
       "      <td>4396399</td>\n",
       "    </tr>\n",
       "  </tbody>\n",
       "</table>\n",
       "<p>244 rows × 3 columns</p>\n",
       "</div>"
      ],
      "text/plain": [
       "           Confirmed Deaths Recovered\n",
       "2020-01-22         0      0         0\n",
       "2020-01-23         0      0         0\n",
       "2020-01-24         0      0         0\n",
       "2020-01-25         0      0         0\n",
       "2020-01-26         0      0         0\n",
       "...              ...    ...       ...\n",
       "2020-09-17   5214677  84372   4112551\n",
       "2020-09-18   5308014  85619   4208431\n",
       "2020-09-19   5400619  86752   4303043\n",
       "2020-09-20   5487580  87882   4396399\n",
       "2020-09-21   5487580  87882   4396399\n",
       "\n",
       "[244 rows x 3 columns]"
      ]
     },
     "execution_count": 12,
     "metadata": {},
     "output_type": "execute_result"
    }
   ],
   "source": [
    "india"
   ]
  },
  {
   "cell_type": "code",
   "execution_count": 13,
   "id": "0ff4e7a1",
   "metadata": {},
   "outputs": [
    {
     "name": "stdout",
     "output_type": "stream",
     "text": [
      "170\n"
     ]
    }
   ],
   "source": [
    "split_point=int(0.7*len(india))\n",
    "print(split_point)\n",
    "train=india[0:split_point]\n",
    "test=india[split_point:]"
   ]
  },
  {
   "cell_type": "code",
   "execution_count": 14,
   "id": "58b2c43e",
   "metadata": {},
   "outputs": [
    {
     "data": {
      "image/png": "[encoded data removed]",
      "text/plain": [
       "<Figure size 640x480 with 1 Axes>"
      ]
     },
     "metadata": {
      "needs_background": "light"
     },
     "output_type": "display_data"
    }
   ],
   "source": [
    "import matplotlib.pyplot as plt\n",
    "\n",
    "plt.figure(num=None,figsize=(8,6),dpi=80)\n",
    "plt.plot(train.Confirmed,label='Confirmed Cases Train Data')\n",
    "plt.plot(test.Confirmed,label='Confirmed Cases Test Data')\n",
    "plt.plot(train.Deaths,label='Deaths Train Data')\n",
    "plt.plot(test.Deaths,label='Deaths Test Data')\n",
    "plt.legend()\n",
    "plt.title(\"Covid-19 Confirmed Cases,Recoveries and Deaths in India\")\n",
    "plt.show()\n",
    "\n",
    "\n"
   ]
  },
  {
   "cell_type": "code",
   "execution_count": 15,
   "id": "26ab0d09",
   "metadata": {},
   "outputs": [
    {
     "name": "stdout",
     "output_type": "stream",
     "text": [
      "            Confirmed  Deaths  Recovered\n",
      "2020-01-22          0       0          0\n",
      "2020-01-29         11       0          0\n",
      "2020-02-05         21       0          0\n",
      "2020-02-12         21       0          9\n",
      "2020-02-19         21       0         21\n",
      "2020-02-26         25       0         21\n",
      "2020-03-04        261       0         22\n",
      "2020-03-11        693      13         56\n",
      "2020-03-18       2355      43        166\n",
      "2020-03-25       6930     170        565\n",
      "2020-04-01      23867     673       1785\n",
      "2020-04-08      59830    2020       6489\n",
      "2020-04-15     112060    3656      17806\n",
      "2020-04-22     183925    5835      42226\n",
      "2020-04-29     283223    9429      77095\n",
      "2020-05-06     444062   14681     137233\n",
      "2020-05-13     638985   20307     237188\n",
      "2020-05-20     920750   27152     382859\n",
      "2020-05-27    1274960   36255     596123\n",
      "2020-06-03    1725903   48476     832062\n",
      "2020-06-10    2243635   66002    1135856\n",
      "2020-06-17    2874657   93198    1584666\n",
      "2020-06-24    3701957  112743    2167385\n",
      "2020-07-01    4711159  134464    2864260\n",
      "2020-07-08    1561098   42733     971891\n"
     ]
    }
   ],
   "source": [
    "#Resample the data to weekly interval\n",
    "resample=train.resample('7D')\n",
    "weekly=resample.sum()\n",
    "print(weekly)\n"
   ]
  },
  {
   "cell_type": "code",
   "execution_count": 16,
   "id": "9ca3c452",
   "metadata": {},
   "outputs": [
    {
     "name": "stdout",
     "output_type": "stream",
     "text": [
      "            Confirmed  Deaths  Recovered\n",
      "2020-01-31          2       0          0\n",
      "2020-02-29         84       0         42\n",
      "2020-03-31      10252     226        818\n",
      "2020-04-30     447607   14417      85811\n",
      "2020-05-31    3088494   94154    1216954\n",
      "2020-06-30   10951713  331856    5916008\n",
      "2020-07-31    6272257  177197    3836151\n"
     ]
    }
   ],
   "source": [
    "#Resample the data to weekly interval\n",
    "resample=train.resample('1M')\n",
    "monthly=resample.sum()\n",
    "print(monthly)\n"
   ]
  },
  {
   "cell_type": "code",
   "execution_count": 17,
   "id": "f64856ca",
   "metadata": {},
   "outputs": [
    {
     "data": {
      "image/png": "[encoded data removed]",
      "text/plain": [
       "<Figure size 432x288 with 4 Axes>"
      ]
     },
     "metadata": {
      "needs_background": "light"
     },
     "output_type": "display_data"
    }
   ],
   "source": [
    "#Decompose the monthly time-series to its components using statements library.\n",
    "from statsmodels.tsa.seasonal import seasonal_decompose\n",
    "\n",
    "result = seasonal_decompose(monthly.Confirmed, period = 1 ,model=\"multiplicative\")\n",
    "result.plot()\n",
    "plt.show();"
   ]
  },
  {
   "cell_type": "code",
   "execution_count": 18,
   "id": "e2f2b439",
   "metadata": {},
   "outputs": [
    {
     "data": {
      "image/png": "[encoded data removed]",
      "text/plain": [
       "<Figure size 432x288 with 4 Axes>"
      ]
     },
     "metadata": {
      "needs_background": "light"
     },
     "output_type": "display_data"
    }
   ],
   "source": [
    "from statsmodels.tsa.seasonal import seasonal_decompose\n",
    "result = seasonal_decompose ( monthly.Confirmed , period = 1 , model = \" multiplicative \" )\n",
    "result.plot ( )\n",
    "plt.show ( ) ;"
   ]
  },
  {
   "cell_type": "code",
   "execution_count": 19,
   "id": "9ba34b6f",
   "metadata": {},
   "outputs": [
    {
     "name": "stdout",
     "output_type": "stream",
     "text": [
      "<statsmodels.tsa.seasonal.DecomposeResult object at 0x000001E258F15520>\n"
     ]
    },
    {
     "data": {
      "image/png": "[encoded data removed]",
      "text/plain": [
       "<Figure size 432x288 with 4 Axes>"
      ]
     },
     "metadata": {
      "needs_background": "light"
     },
     "output_type": "display_data"
    }
   ],
   "source": [
    "result=seasonal_decompose(weekly.Confirmed,period=7,model='additive')\n",
    "print(result)\n",
    "result.plot()\n",
    "plt.show();"
   ]
  },
  {
   "cell_type": "code",
   "execution_count": 20,
   "id": "db9757a7",
   "metadata": {},
   "outputs": [],
   "source": [
    "#Convert the dataframe columns into int to eliminate any other datatypes\n",
    "train.Confirmed=pd.to_numeric(train.Confirmed)\n",
    "train.Deaths=pd.to_numeric(train.Deaths)\n",
    "train.Recovered=pd.to_numeric(train.Recovered)\n",
    "test.Confirmed=pd.to_numeric(test.Confirmed)\n",
    "train.Deaths=pd.to_numeric(test.Deaths)\n",
    "test.Recovered=pd.to_numeric(test.Recovered)\n"
   ]
  },
  {
   "cell_type": "code",
   "execution_count": 21,
   "id": "94caff5f",
   "metadata": {},
   "outputs": [
    {
     "data": {
      "image/png": "[encoded data removed]",
      "text/plain": [
       "<Figure size 432x288 with 4 Axes>"
      ]
     },
     "metadata": {
      "needs_background": "light"
     },
     "output_type": "display_data"
    }
   ],
   "source": [
    "#Decompose the Covid-19 time series\n",
    "X=train.Recovered[120:]\n",
    "result=seasonal_decompose(X,period=1,model='multiplicative')\n",
    "result.plot()\n",
    "plt.show();"
   ]
  },
  {
   "cell_type": "markdown",
   "id": "174851f5",
   "metadata": {},
   "source": [
    "Here,we have to check for  the stationarity of the time series with Augmented Dickey Fuller Test(ADF Test)"
   ]
  },
  {
   "cell_type": "code",
   "execution_count": 22,
   "id": "7822805e",
   "metadata": {},
   "outputs": [
    {
     "name": "stdout",
     "output_type": "stream",
     "text": [
      "ADF Statistic:0.026931 \n",
      "p-value:0.960703 \n",
      "Critical Values:\n",
      "\t1%:-3.473\n",
      "\t5%:-2.880\n",
      "\t10%:-2.577\n"
     ]
    }
   ],
   "source": [
    "from statsmodels.tsa.stattools import adfuller\n",
    "\n",
    "X=train.Confirmed\n",
    "result=adfuller(X)\n",
    "print('ADF Statistic:%f '%result[0])\n",
    "print('p-value:%f '%result[1])\n",
    "print('Critical Values:')\n",
    "for key,value in result[4].items():\n",
    "    print('\\t%s:%.3f'%(key,value))"
   ]
  },
  {
   "cell_type": "markdown",
   "id": "61ef657b",
   "metadata": {},
   "source": [
    "For now,let's focus on the       implementation and see the results   of the KPSS test.\n",
    "  \n",
    " "
   ]
  },
  {
   "cell_type": "code",
   "execution_count": 23,
   "id": "c52cd5bd",
   "metadata": {},
   "outputs": [
    {
     "name": "stdout",
     "output_type": "stream",
     "text": [
      "KPSS Statistic:1.659488067662081\n",
      "p-value:0.01\n",
      "num lags:10\n",
      "Critial Values:\n",
      " 10%0.347\n",
      " 5%0.463\n",
      " 2.5%0.574\n",
      " 1%0.739\n",
      "Result:The series is not stationary\n"
     ]
    },
    {
     "name": "stderr",
     "output_type": "stream",
     "text": [
      "C:\\Users\\ROG ZEPHYRUS\\anaconda3\\Data science\\lib\\site-packages\\statsmodels\\tsa\\stattools.py:2018: InterpolationWarning: The test statistic is outside of the range of p-values available in the\n",
      "look-up table. The actual p-value is smaller than the p-value returned.\n",
      "\n",
      "  warnings.warn(\n"
     ]
    }
   ],
   "source": [
    "from statsmodels.tsa.stattools import kpss\n",
    "statistic,p_value,n_lags,critical_values=kpss(india.Confirmed)\n",
    "print(f'KPSS Statistic:{statistic}')\n",
    "print(f'p-value:{p_value}')\n",
    "print(f'num lags:{n_lags}')\n",
    "print('Critial Values:')\n",
    "for key,value in critical_values.items():\n",
    "    print(f' {key}{value}')\n",
    "print(f'Result:The series is {\"not\" if p_value < 0.05 else\"\"} stationary')"
   ]
  },
  {
   "cell_type": "markdown",
   "id": "68f01ca7",
   "metadata": {},
   "source": [
    "**Time-series Modelling and validation**\n",
    "\n"
   ]
  },
  {
   "cell_type": "code",
   "execution_count": 24,
   "id": "597f49c7",
   "metadata": {},
   "outputs": [],
   "source": [
    "#Prediction is mean of historical data of COVID-19 deaths\n",
    "\n",
    "pred=train.Confirmed.mean()\n",
    "\n",
    "#For single trdin-test split the prediction will be same for all the test points\n",
    "\n",
    "prediction=[pred]*len(test)\n",
    "\n",
    "#Add predictions asacolumn in test\n",
    "\n",
    "test['Prediction']=prediction"
   ]
  },
  {
   "cell_type": "code",
   "execution_count": 25,
   "id": "f77a1e13",
   "metadata": {},
   "outputs": [
    {
     "name": "stdout",
     "output_type": "stream",
     "text": [
      "3024765.6095847026\n"
     ]
    }
   ],
   "source": [
    "#Calculating the RMSE between actual values and prediction\n",
    "from sklearn import metrics\n",
    "from math import sqrt\n",
    "error=sqrt(metrics.mean_squared_error(test.Confirmed,test.Prediction))\n",
    "print(error)\n",
    "\n"
   ]
  },
  {
   "cell_type": "code",
   "execution_count": 26,
   "id": "36ae361a",
   "metadata": {},
   "outputs": [
    {
     "data": {
      "image/png": "[encoded data removed]",
      "text/plain": [
       "<Figure size 640x480 with 1 Axes>"
      ]
     },
     "metadata": {
      "needs_background": "light"
     },
     "output_type": "display_data"
    }
   ],
   "source": [
    "#Visualize the test data and naive average method predictions using matplotlib\n",
    "import matplotlib.pyplot as plt\n",
    "                         \n",
    "plt.figure(num=None,figsize=(8,6),dpi=80)\n",
    "plt.plot(test.Confirmed,label=\"Test Data\")\n",
    "plt.plot(test.Prediction,label=\"Predicted Data\")\n",
    "plt.legend()\n",
    "plt.title('COVID-19 Actual and Predicted Confirmed using Average Naive Approach')\n",
    "plt.show()"
   ]
  },
  {
   "cell_type": "markdown",
   "id": "2fac1a9e",
   "metadata": {},
   "source": [
    "When we make a train-test split and make out-of-sample prediction for a large prediction horizon,the error tends to accumulate.\n",
    "\n",
    "**Walk-Forward Validation**\n"
   ]
  },
  {
   "cell_type": "code",
   "execution_count": 27,
   "id": "9ececc06",
   "metadata": {},
   "outputs": [],
   "source": [
    "# Walk - forward validation for average naive method\n",
    "import numpy as np\n",
    "\n",
    "pred_wf = []\n",
    "X = train.Confirmed.values\n",
    "\n",
    "# For every element in test , make a prediction , append the test point to training set and Loop ahead\n",
    "for i in test.Confirmed :\n",
    "    pred = X.mean() \n",
    "    pred_wf.append (pred)\n",
    "    X = np.append (X ,i)"
   ]
  },
  {
   "cell_type": "code",
   "execution_count": 28,
   "id": "9900d55c",
   "metadata": {},
   "outputs": [],
   "source": [
    "# Add the walk forward prediction as a column in test data\n",
    "test['pred_wf'] = pred_wf\n",
    "\n",
    "\n"
   ]
  },
  {
   "cell_type": "code",
   "execution_count": 29,
   "id": "84f50b50",
   "metadata": {},
   "outputs": [
    {
     "data": {
      "text/plain": [
       "[122178.87647058823,\n",
       " 126265.05847953216,\n",
       " 130470.04069767441,\n",
       " 134792.49132947976,\n",
       " 139229.04022988505,\n",
       " 143783.05142857143,\n",
       " 148470.9715909091,\n",
       " 153303.5197740113,\n",
       " 158279.81460674157,\n",
       " 163416.69273743016,\n",
       " 168721.07777777777,\n",
       " 174172.0,\n",
       " 179770.38461538462,\n",
       " 185557.42076502732,\n",
       " 191549.54347826086,\n",
       " 197741.2972972973,\n",
       " 204127.82258064515,\n",
       " 210713.32085561496,\n",
       " 217465.2340425532,\n",
       " 224418.69312169313,\n",
       " 231563.66315789474,\n",
       " 238910.16753926701,\n",
       " 246499.11458333334,\n",
       " 254293.0207253886,\n",
       " 262279.6288659794,\n",
       " 270451.24615384615,\n",
       " 278807.38265306124,\n",
       " 287364.3807106599,\n",
       " 296150.79292929295,\n",
       " 305158.13065326633,\n",
       " 314397.39,\n",
       " 323853.49253731343,\n",
       " 333481.32178217825,\n",
       " 343314.60591133,\n",
       " 353379.9117647059,\n",
       " 363661.9121951219,\n",
       " 374158.32038834953,\n",
       " 384862.6376811594,\n",
       " 395741.48557692306,\n",
       " 406779.4736842105,\n",
       " 418019.82380952383,\n",
       " 429483.82938388624,\n",
       " 441164.68396226416,\n",
       " 453063.91549295775,\n",
       " 465175.4859813084,\n",
       " 477460.0093023256,\n",
       " 489913.0787037037,\n",
       " 502515.0783410138,\n",
       " 515394.5229357798,\n",
       " 528509.1598173516,\n",
       " 541852.1727272727,\n",
       " 555430.8190045248,\n",
       " 569240.7927927928,\n",
       " 583240.4573991031,\n",
       " 597464.9330357143,\n",
       " 611935.7822222222,\n",
       " 626647.3362831859,\n",
       " 641610.0308370044,\n",
       " 656838.9824561403,\n",
       " 672331.4454148471,\n",
       " 688018.7956521739,\n",
       " 703958.6623376623,\n",
       " 720173.7672413794,\n",
       " 736664.0686695279,\n",
       " 753430.3931623931,\n",
       " 770455.6085106384,\n",
       " 787726.6737288135,\n",
       " 805205.6160337552,\n",
       " 822916.3445378151,\n",
       " 840888.4644351464,\n",
       " 859112.5833333334,\n",
       " 877572.755186722,\n",
       " 896263.0289256198,\n",
       " 915157.3374485597]"
      ]
     },
     "execution_count": 29,
     "metadata": {},
     "output_type": "execute_result"
    }
   ],
   "source": [
    "pred_wf"
   ]
  },
  {
   "cell_type": "code",
   "execution_count": 30,
   "id": "b203f15d",
   "metadata": {},
   "outputs": [
    {
     "name": "stdout",
     "output_type": "stream",
     "text": [
      "2647251.917004717\n"
     ]
    }
   ],
   "source": [
    "# Calculate RMSE for walk forward validation using average naive method\n",
    "error = sqrt ( metrics.mean_squared_error ( test.Confirmed ,test.pred_wf)) \n",
    "print ( error )"
   ]
  },
  {
   "cell_type": "code",
   "execution_count": 31,
   "id": "1f8bd429",
   "metadata": {},
   "outputs": [
    {
     "data": {
      "image/png": "[encoded data removed]",
      "text/plain": [
       "<Figure size 640x480 with 1 Axes>"
      ]
     },
     "metadata": {
      "needs_background": "light"
     },
     "output_type": "display_data"
    }
   ],
   "source": [
    "# Plot the actual and predicted values\n",
    "\n",
    "plt.figure(num=None, figsize=(8, 6), dpi=80)\n",
    "\n",
    "plt.plot(test.Confirmed, label=\"Test Data\")\n",
    "\n",
    "plt.plot(test.pred_wf, label= \"Predicted Data\")\n",
    "\n",
    "plt. legend()\n",
    "\n",
    "plt.title('COVID-19 Actual and Predicted Confirmed cases using Average Naive Approach with Walk Forward Validation' )\n",
    "plt.show()\n",
    "\n",
    " \n",
    "\n",
    " \n"
   ]
  },
  {
   "cell_type": "markdown",
   "id": "e6367c08",
   "metadata": {},
   "source": [
    "We can observe from the error values and the plots that the walk forward validation reveals better results.\n",
    "\n",
    "Lets look at another naive approach ie. Naive method bofore moving on to statistical modeling approaches.\n"
   ]
  },
  {
   "cell_type": "code",
   "execution_count": 32,
   "id": "da64994f",
   "metadata": {},
   "outputs": [],
   "source": [
    "1 # Prediction is the Last observed value of historical data of COVID-19 Confirmed cases\n",
    "pred = train.Confirmed[-1]\n",
    "\n",
    "# For single train-test split the prediction will be same for all the test points\n",
    "prediction = [pred]*len(test)\n",
    "\n",
    "# Add predictions as a column in test\n",
    "\n",
    "test[ 'Prediction_NM'] = prediction \n"
   ]
  },
  {
   "cell_type": "code",
   "execution_count": 33,
   "id": "f23bf4e5",
   "metadata": {},
   "outputs": [
    {
     "name": "stdout",
     "output_type": "stream",
     "text": [
      "2450534.4932774827\n"
     ]
    }
   ],
   "source": [
    " # Calculate the error between actual value and predicted value\n",
    "error = sqrt(metrics.mean_squared_error(test .Confirmed, test .Prediction_NM))\n",
    "print (error)\n"
   ]
  },
  {
   "cell_type": "code",
   "execution_count": 34,
   "id": "c96b9c57",
   "metadata": {},
   "outputs": [
    {
     "data": {
      "image/png": "[encoded data removed]",
      "text/plain": [
       "<Figure size 640x480 with 1 Axes>"
      ]
     },
     "metadata": {
      "needs_background": "light"
     },
     "output_type": "display_data"
    }
   ],
   "source": [
    "# Visualize the test data and naive method predictions using matpLotlib\n",
    "import matplotlib.pyplot as plt\n",
    "\n",
    "plt.figure(num=None, figsize=(8, 6), dpi=80)\n",
    "\n",
    "plt.plot(test.Confirmed, label=\"Test Confirmed Cases\")\n",
    "plt.plot(test.Prediction_NM, label=\"Predicted Data\")\n",
    "\n",
    "plt. legend()\n",
    "\n",
    "plt.title('COVID-19 Actual and Predicted Confirmed cases using Naive method' )\n",
    "plt.show()\n",
    "\n"
   ]
  },
  {
   "cell_type": "markdown",
   "id": "792044e0",
   "metadata": {},
   "source": [
    "Let's use the Naive approach with walk-forward validation.\n"
   ]
  },
  {
   "cell_type": "code",
   "execution_count": 35,
   "id": "5722384c",
   "metadata": {},
   "outputs": [],
   "source": [
    "pred_nm_wf = []\n",
    "X = train.Confirmed.values\n",
    "\n",
    "# For every element in test, make a prediction, append the test point to training set and Loop ahead\n",
    "for i in test.Confirmed:\n",
    "\n",
    "    pred = X[-1]\n",
    "\n",
    "    pred_nm_wf.append(pred)\n",
    "\n",
    "    X = np.append(X, i)\n"
   ]
  },
  {
   "cell_type": "code",
   "execution_count": 36,
   "id": "9180fe2f",
   "metadata": {},
   "outputs": [],
   "source": [
    "# Add the walk forward prediction as a column in test data\n",
    "test['pred_nm_wf'] = pred_nm_wf\n"
   ]
  },
  {
   "cell_type": "code",
   "execution_count": 37,
   "id": "59b0c83f",
   "metadata": {},
   "outputs": [
    {
     "data": {
      "image/png": "[encoded data removed]",
      "text/plain": [
       "<Figure size 640x480 with 1 Axes>"
      ]
     },
     "metadata": {
      "needs_background": "light"
     },
     "output_type": "display_data"
    }
   ],
   "source": [
    "# Visualize the test data and naive method predictions using matplotlib\n",
    "import matplotlib.pyplot as plt\n",
    "\n",
    "plt.figure(num=None, figsize=(8, 6), dpi=80)\n",
    "\n",
    "plt.plot (test.Confirmed, label=\"Test Data\")\n",
    "\n",
    "plt.plot(test.pred_nm_wf, label=\"Predicted Data\")\n",
    "\n",
    "plt. legend(),\n",
    "\n",
    "plt.title('COVID-19 Actual and Predicted Confirmed cases using Naive method')\n",
    "plt.show()\n"
   ]
  },
  {
   "cell_type": "code",
   "execution_count": 38,
   "id": "eafaf6b7",
   "metadata": {},
   "outputs": [
    {
     "data": {
      "image/png": "[encoded data removed]",
      "text/plain": [
       "<Figure size 432x288 with 1 Axes>"
      ]
     },
     "metadata": {
      "needs_background": "light"
     },
     "output_type": "display_data"
    }
   ],
   "source": [
    "# Plot Autocorrelation Plot\n",
    "from statsmodels.graphics.tsaplots import plot_acf\n",
    "plot_acf ( train.Confirmed.diff ( ) . diff ( ) . dropna ( ) , lags = 14 )\n",
    "plt.show ( )"
   ]
  },
  {
   "cell_type": "code",
   "execution_count": 39,
   "id": "0ce55652",
   "metadata": {},
   "outputs": [
    {
     "data": {
      "image/png": "[encoded data removed]",
      "text/plain": [
       "<Figure size 432x288 with 1 Axes>"
      ]
     },
     "metadata": {
      "needs_background": "light"
     },
     "output_type": "display_data"
    }
   ],
   "source": [
    "#Plot Partial Autocorrelation Plot\n",
    "from statsmodels.graphics.tsaplots import plot_pacf\n",
    "plot_pacf ( train.Confirmed.diff( ).diff( ).dropna( ) )\n",
    "plt.show ( )"
   ]
  },
  {
   "cell_type": "markdown",
   "id": "ce3d76ca",
   "metadata": {},
   "source": [
    "**Auto - Regressive Integrated Moving Average ( ARIMA ) Model**\n",
    "\n",
    "ARIMA model is the most popular statistical model for time - series modelling and forecasting , it is a combination of an auto - regressive model and a moving\n",
    "average model on stationary data .\n",
    "\n",
    "Auto - regressive model ( AR ) : A model that uses the dependent relationship between an observation and some number of lagged observations . In other words ,\n",
    "an auto regression models sees the value of a variable at time ' t ' as a linear function of it's values ' p ' time steps preceeding it .\n",
    "\n",
    "Integrated : The use of differencing of raw observations ( e.g. subtracting an observation from an observation at the previous time step ) in order to make the\n",
    "time series stationary . \n",
    "\n",
    "Moving - Average Model ( MA ) : A model that uses the dependency between an observation and a residual error from a moving average model applied to lagged\n",
    "observations . In other words , a moving average model sees the value of a variable at time ' t ' as a linear function of residual errors from ' q ' time steps\n",
    "preceding it . The residual error is calculated by comparing the value at the time ' t ' to moving average of the values preceding .\n",
    "\n",
    "Each of these components are explicitly specified in the model as a parameter . A standard notation is used of ARIMA ( p.d.q ) where the parameters are\n",
    "substituted with integer values to quickly indicate the specific ARIMA model being used .\n",
    "\n",
    "The parameters of the ARIMA model are defined as follows :\n",
    "\n",
    "p : The number of lag observations included in the model , also called the lag order .\n",
    "\n",
    "d : The number of times that the raw observations are differenced , also called the degree of differencing .\n",
    "\n",
    "q : The size of the moving average window , also called the order of moving average . \n",
    "\n",
    "**Seasonal ARIMA** : This is an extension of ARIMA model to deal with seasonal data . It divides the data into seasonal and non - seasonal components and\n",
    "models them in a similar fashion . It is characterized by 7 parameters , for non - seasonal or trend part ( p.d.q ) parameters same as for ARIMA model and for\n",
    "seasonal part ( P , D , Q , m ) parameters where ' m ' is the number of seasonal periods and P , D , Q are similar to parameters of ARIMA model ."
   ]
  },
  {
   "cell_type": "code",
   "execution_count": 40,
   "id": "979f1dc2",
   "metadata": {},
   "outputs": [
    {
     "name": "stderr",
     "output_type": "stream",
     "text": [
      "C:\\Users\\ROG ZEPHYRUS\\anaconda3\\Data science\\lib\\site-packages\\statsmodels\\tsa\\base\\tsa_model.py:471: ValueWarning: No frequency information was provided, so inferred frequency D will be used.\n",
      "  self._init_dates(dates, freq)\n",
      "C:\\Users\\ROG ZEPHYRUS\\anaconda3\\Data science\\lib\\site-packages\\statsmodels\\tsa\\base\\tsa_model.py:471: ValueWarning: No frequency information was provided, so inferred frequency D will be used.\n",
      "  self._init_dates(dates, freq)\n"
     ]
    },
    {
     "name": "stdout",
     "output_type": "stream",
     "text": [
      "                                     SARIMAX Results                                     \n",
      "=========================================================================================\n",
      "Dep. Variable:                         Confirmed   No. Observations:                  170\n",
      "Model:             SARIMAX(1, 2, 1)x(1, 2, 1, 7)   Log Likelihood               -1193.564\n",
      "Date:                           Wed, 31 Aug 2022   AIC                           2397.128\n",
      "Time:                                   14:02:45   BIC                           2412.312\n",
      "Sample:                               01-22-2020   HQIC                          2403.296\n",
      "                                    - 07-09-2020                                         \n",
      "Covariance Type:                             opg                                         \n",
      "==============================================================================\n",
      "                 coef    std err          z      P>|z|      [0.025      0.975]\n",
      "------------------------------------------------------------------------------\n",
      "ar.L1         -0.0332      0.137     -0.243      0.808      -0.301       0.234\n",
      "ma.L1         -0.5205      0.116     -4.476      0.000      -0.748      -0.293\n",
      "ar.S.L7       -0.4048      0.057     -7.129      0.000      -0.516      -0.294\n",
      "ma.S.L7       -0.9983      2.648     -0.377      0.706      -6.189       4.193\n",
      "sigma2      2.767e+05   7.26e+05      0.381      0.703   -1.15e+06     1.7e+06\n",
      "===================================================================================\n",
      "Ljung-Box (L1) (Q):                   0.03   Jarque-Bera (JB):                24.52\n",
      "Prob(Q):                              0.86   Prob(JB):                         0.00\n",
      "Heteroskedasticity (H):            1452.08   Skew:                             0.08\n",
      "Prob(H) (two-sided):                  0.00   Kurtosis:                         4.95\n",
      "===================================================================================\n",
      "\n",
      "Warnings:\n",
      "[1] Covariance matrix calculated using the outer product of gradients (complex-step).\n"
     ]
    }
   ],
   "source": [
    "# Fit the SARIMA model\n",
    "from statsmodels.tsa.statespace.sarimax import SARIMAX\n",
    "model = SARIMAX ( train.Confirmed ,order = ( 1,2,1 ) , seasonal_order = ( 1,2,1,7 ) )\n",
    "model_fit = model.fit ( )\n",
    "#summary of fit model\n",
    "print ( model_fit.summary ( ) )  "
   ]
  },
  {
   "cell_type": "markdown",
   "id": "0ae469e6",
   "metadata": {},
   "source": [
    "In the summary of the model , you should look at a few important parameters that help you understand how good is your model and compare is to other\n",
    "models .\n",
    "  • Log Likelihood : This value on its own is quite meaningless , but it can be helpful if you compare multiple models to each other . Generally speaking , the\n",
    "    higher the log - likelihood , the better . However , it should not be the only guiding metric for comparing your models .\n",
    "    • Akaike's Information Criterion ( AIC ) : It is a metric that helps you evaluate the strength of your model . Since adding more parameters to your model will\n",
    "    always increase your value of the maximum likelihood , the AIC balances this by penalizing for the number of parameters , hence searching for models with\n",
    "    few parameters but fitting the data well . Looking at the models with the lowest AIC is a good way to select to best one ! The lower this value is the better\n",
    "    the model is performing.\n",
    "    \n",
    "    • Bayesian Information Criterion ( BIC ) : It is very similar to AIC , but also considers the number of rows in your dataset . Again , the lower your BIC , the better\n",
    " your model works . BIC induce a higher penalization for models with complicated parameters compared to AIC .\n",
    "\n",
    "• Hannan - Quinn Information Criterion ( HQIC ) : It can also be used for feature selection , but is less frequently used .\n",
    "    \n",
    "We also get a summary of model parameters :\n",
    "• Coefficient : It represents the significance of each feature .\n",
    "• Standard Error : It is the estimate of the error of the predicted value . It tells you how strong is the effect of the residual error on your estimated parameters .\n",
    "• Z : It is equal to the values of ' coef divided by ' std err ' . It is thus the standardised coefficient .\n",
    "    \n",
    "• P > | z ] : It is the p - value of the coefficient . It is really important to check these p - values before you continue using the model . If any of these values are\n",
    " higher than your given threshold ( usually 0.05 ) , you might be using an unreliable coefficient that might cause misleading results .\n",
    "• [ 0.025 0.975 ] : It represents the confidence intervals ."
   ]
  },
  {
   "cell_type": "code",
   "execution_count": 41,
   "id": "a2f8a008",
   "metadata": {},
   "outputs": [],
   "source": [
    "# Perform out - of - sample predictions for the entire test data\n",
    "forecast= model_fit.predict ( start = train.Confirmed.shape[0],end = train.Confirmed.shape[0]+len(test)-1)"
   ]
  },
  {
   "cell_type": "code",
   "execution_count": 42,
   "id": "d7158ab8",
   "metadata": {},
   "outputs": [
    {
     "name": "stdout",
     "output_type": "stream",
     "text": [
      "353876.2798510913\n"
     ]
    }
   ],
   "source": [
    "# Calculate the error between actual and predicted values\n",
    "error = sqrt ( metrics.mean_squared_error ( test.Confirmed , forecast ) )\n",
    "print ( error )"
   ]
  },
  {
   "cell_type": "code",
   "execution_count": 43,
   "id": "5423d452",
   "metadata": {},
   "outputs": [
    {
     "data": {
      "image/png": "[encoded data removed]",
      "text/plain": [
       "<Figure size 640x480 with 1 Axes>"
      ]
     },
     "metadata": {
      "needs_background": "light"
     },
     "output_type": "display_data"
    }
   ],
   "source": [
    "# Plot the actual and predicted values for COVID - 19 related Confirmed cases\n",
    "plt.figure ( num=None ,figsize = ( 8 , 6 ) , dpi = 80 )\n",
    "plt.plot ( test.Confirmed ,label = \" Test Data \" )\n",
    "plt.plot ( forecast , label = \" Predicted Data \" )\n",
    "plt.legend ( )\n",
    "plt.title ( ' COVID - 19 Actual and Predicted Confirmed cases using SARIMA model ' )\n",
    "plt.show ( )"
   ]
  },
  {
   "cell_type": "code",
   "execution_count": 44,
   "id": "5d99c1c0",
   "metadata": {},
   "outputs": [],
   "source": [
    "# Perform out - of - sample predictions using walk forward validation\n",
    "pred_ARIMA = [ ]\n",
    "X = train.Confirmed.values\n",
    "                                               \n",
    "# For every element in test , make a prediction , append the test point to training set and Loop ahead\n",
    "for i in test.Confirmed :\n",
    "    model_fit = SARIMAX ( X , order = ( 1,1,1 ) ) . fit ( )\n",
    "    pred=model_fit.forecast ( )\n",
    "    pred_ARIMA.append ( pred )\n",
    "    X = np.append ( X , i )"
   ]
  },
  {
   "cell_type": "code",
   "execution_count": 45,
   "id": "a73836a3",
   "metadata": {},
   "outputs": [
    {
     "data": {
      "text/html": [
       "<div>\n",
       "<style scoped>\n",
       "    .dataframe tbody tr th:only-of-type {\n",
       "        vertical-align: middle;\n",
       "    }\n",
       "\n",
       "    .dataframe tbody tr th {\n",
       "        vertical-align: top;\n",
       "    }\n",
       "\n",
       "    .dataframe thead th {\n",
       "        text-align: right;\n",
       "    }\n",
       "</style>\n",
       "<table border=\"1\" class=\"dataframe\">\n",
       "  <thead>\n",
       "    <tr style=\"text-align: right;\">\n",
       "      <th></th>\n",
       "      <th>Confirmed</th>\n",
       "      <th>Deaths</th>\n",
       "      <th>Recovered</th>\n",
       "      <th>Prediction</th>\n",
       "      <th>pred_wf</th>\n",
       "      <th>Prediction_NM</th>\n",
       "      <th>pred_nm_wf</th>\n",
       "      <th>pred_ARIMA</th>\n",
       "    </tr>\n",
       "  </thead>\n",
       "  <tbody>\n",
       "    <tr>\n",
       "      <th>2020-07-10</th>\n",
       "      <td>820916</td>\n",
       "      <td>22123</td>\n",
       "      <td>515386</td>\n",
       "      <td>122178.876471</td>\n",
       "      <td>122178.876471</td>\n",
       "      <td>793802</td>\n",
       "      <td>793802</td>\n",
       "      <td>[820443.7174847929]</td>\n",
       "    </tr>\n",
       "    <tr>\n",
       "      <th>2020-07-11</th>\n",
       "      <td>849522</td>\n",
       "      <td>22673</td>\n",
       "      <td>534618</td>\n",
       "      <td>122178.876471</td>\n",
       "      <td>126265.058480</td>\n",
       "      <td>793802</td>\n",
       "      <td>820916</td>\n",
       "      <td>[848077.9262523414]</td>\n",
       "    </tr>\n",
       "    <tr>\n",
       "      <th>2020-07-12</th>\n",
       "      <td>878254</td>\n",
       "      <td>23174</td>\n",
       "      <td>553471</td>\n",
       "      <td>122178.876471</td>\n",
       "      <td>130470.040698</td>\n",
       "      <td>793802</td>\n",
       "      <td>849522</td>\n",
       "      <td>[878287.7344441861]</td>\n",
       "    </tr>\n",
       "    <tr>\n",
       "      <th>2020-07-13</th>\n",
       "      <td>906752</td>\n",
       "      <td>23727</td>\n",
       "      <td>571460</td>\n",
       "      <td>122178.876471</td>\n",
       "      <td>134792.491329</td>\n",
       "      <td>793802</td>\n",
       "      <td>878254</td>\n",
       "      <td>[906982.2854127748]</td>\n",
       "    </tr>\n",
       "    <tr>\n",
       "      <th>2020-07-14</th>\n",
       "      <td>936181</td>\n",
       "      <td>24309</td>\n",
       "      <td>592032</td>\n",
       "      <td>122178.876471</td>\n",
       "      <td>139229.040230</td>\n",
       "      <td>793802</td>\n",
       "      <td>906752</td>\n",
       "      <td>[935224.3496945548]</td>\n",
       "    </tr>\n",
       "    <tr>\n",
       "      <th>...</th>\n",
       "      <td>...</td>\n",
       "      <td>...</td>\n",
       "      <td>...</td>\n",
       "      <td>...</td>\n",
       "      <td>...</td>\n",
       "      <td>...</td>\n",
       "      <td>...</td>\n",
       "      <td>...</td>\n",
       "    </tr>\n",
       "    <tr>\n",
       "      <th>2020-09-17</th>\n",
       "      <td>5214677</td>\n",
       "      <td>84372</td>\n",
       "      <td>4112551</td>\n",
       "      <td>122178.876471</td>\n",
       "      <td>840888.464435</td>\n",
       "      <td>793802</td>\n",
       "      <td>5118253</td>\n",
       "      <td>[5213279.345454792]</td>\n",
       "    </tr>\n",
       "    <tr>\n",
       "      <th>2020-09-18</th>\n",
       "      <td>5308014</td>\n",
       "      <td>85619</td>\n",
       "      <td>4208431</td>\n",
       "      <td>122178.876471</td>\n",
       "      <td>859112.583333</td>\n",
       "      <td>793802</td>\n",
       "      <td>5214677</td>\n",
       "      <td>[5310684.435555364]</td>\n",
       "    </tr>\n",
       "    <tr>\n",
       "      <th>2020-09-19</th>\n",
       "      <td>5400619</td>\n",
       "      <td>86752</td>\n",
       "      <td>4303043</td>\n",
       "      <td>122178.876471</td>\n",
       "      <td>877572.755187</td>\n",
       "      <td>793802</td>\n",
       "      <td>5308014</td>\n",
       "      <td>[5402203.9039715845]</td>\n",
       "    </tr>\n",
       "    <tr>\n",
       "      <th>2020-09-20</th>\n",
       "      <td>5487580</td>\n",
       "      <td>87882</td>\n",
       "      <td>4396399</td>\n",
       "      <td>122178.876471</td>\n",
       "      <td>896263.028926</td>\n",
       "      <td>793802</td>\n",
       "      <td>5400619</td>\n",
       "      <td>[5493733.596280266]</td>\n",
       "    </tr>\n",
       "    <tr>\n",
       "      <th>2020-09-21</th>\n",
       "      <td>5487580</td>\n",
       "      <td>87882</td>\n",
       "      <td>4396399</td>\n",
       "      <td>122178.876471</td>\n",
       "      <td>915157.337449</td>\n",
       "      <td>793802</td>\n",
       "      <td>5487580</td>\n",
       "      <td>[5576457.095937306]</td>\n",
       "    </tr>\n",
       "  </tbody>\n",
       "</table>\n",
       "<p>74 rows × 8 columns</p>\n",
       "</div>"
      ],
      "text/plain": [
       "            Confirmed Deaths  Recovered     Prediction        pred_wf  \\\n",
       "2020-07-10     820916  22123     515386  122178.876471  122178.876471   \n",
       "2020-07-11     849522  22673     534618  122178.876471  126265.058480   \n",
       "2020-07-12     878254  23174     553471  122178.876471  130470.040698   \n",
       "2020-07-13     906752  23727     571460  122178.876471  134792.491329   \n",
       "2020-07-14     936181  24309     592032  122178.876471  139229.040230   \n",
       "...               ...    ...        ...            ...            ...   \n",
       "2020-09-17    5214677  84372    4112551  122178.876471  840888.464435   \n",
       "2020-09-18    5308014  85619    4208431  122178.876471  859112.583333   \n",
       "2020-09-19    5400619  86752    4303043  122178.876471  877572.755187   \n",
       "2020-09-20    5487580  87882    4396399  122178.876471  896263.028926   \n",
       "2020-09-21    5487580  87882    4396399  122178.876471  915157.337449   \n",
       "\n",
       "            Prediction_NM  pred_nm_wf            pred_ARIMA  \n",
       "2020-07-10         793802      793802   [820443.7174847929]  \n",
       "2020-07-11         793802      820916   [848077.9262523414]  \n",
       "2020-07-12         793802      849522   [878287.7344441861]  \n",
       "2020-07-13         793802      878254   [906982.2854127748]  \n",
       "2020-07-14         793802      906752   [935224.3496945548]  \n",
       "...                   ...         ...                   ...  \n",
       "2020-09-17         793802     5118253   [5213279.345454792]  \n",
       "2020-09-18         793802     5214677   [5310684.435555364]  \n",
       "2020-09-19         793802     5308014  [5402203.9039715845]  \n",
       "2020-09-20         793802     5400619   [5493733.596280266]  \n",
       "2020-09-21         793802     5487580   [5576457.095937306]  \n",
       "\n",
       "[74 rows x 8 columns]"
      ]
     },
     "execution_count": 45,
     "metadata": {},
     "output_type": "execute_result"
    }
   ],
   "source": [
    "# Add a column in test with prediction by SARIMA model\n",
    "test['pred_ARIMA'] = pred_ARIMA\n",
    "test"
   ]
  },
  {
   "cell_type": "code",
   "execution_count": 46,
   "id": "d69def5d",
   "metadata": {},
   "outputs": [
    {
     "name": "stdout",
     "output_type": "stream",
     "text": [
      "11891.561646021577\n"
     ]
    }
   ],
   "source": [
    "# Calculate the error between actual and predicted values\n",
    "error = sqrt ( metrics.mean_squared_error ( test.Confirmed , test.pred_ARIMA ) )\n",
    "print ( error )\n",
    "\n"
   ]
  },
  {
   "cell_type": "code",
   "execution_count": 47,
   "id": "86064b53",
   "metadata": {},
   "outputs": [
    {
     "data": {
      "image/png": "[encoded data removed]",
      "text/plain": [
       "<Figure size 640x480 with 1 Axes>"
      ]
     },
     "metadata": {
      "needs_background": "light"
     },
     "output_type": "display_data"
    }
   ],
   "source": [
    "# Plot actual and predicted data\n",
    "plt.figure ( num = None , figsize = ( 8 , 6 ) , dpi = 80 )\n",
    "plt.plot ( test.Confirmed , label = \" Test Data \" )\n",
    "plt.plot ( test.pred_ARIMA , 'r--' , label = \" Predicted Data \" )\n",
    "plt.legend ( )\n",
    "plt.title ( ' COVID - 19 Actual and Predicted Confirmed cases using SARIMA model and walk forward validation ' )\n",
    "plt.show ( )"
   ]
  },
  {
   "cell_type": "code",
   "execution_count": 48,
   "id": "2c5f9aa3",
   "metadata": {},
   "outputs": [
    {
     "name": "stdout",
     "output_type": "stream",
     "text": [
      "Requirement already satisfied: pmdarima in c:\\users\\rog zephyrus\\anaconda3\\data science\\lib\\site-packages (2.0.1)\n",
      "Requirement already satisfied: joblib>=0.11 in c:\\users\\rog zephyrus\\anaconda3\\data science\\lib\\site-packages (from pmdarima) (1.1.0)\n",
      "Requirement already satisfied: Cython!=0.29.18,!=0.29.31,>=0.29 in c:\\users\\rog zephyrus\\anaconda3\\data science\\lib\\site-packages (from pmdarima) (0.29.24)\n",
      "Requirement already satisfied: scipy>=1.3.2 in c:\\users\\rog zephyrus\\anaconda3\\data science\\lib\\site-packages (from pmdarima) (1.7.1)\n",
      "Requirement already satisfied: urllib3 in c:\\users\\rog zephyrus\\anaconda3\\data science\\lib\\site-packages (from pmdarima) (1.26.7)\n",
      "Requirement already satisfied: statsmodels>=0.13.2 in c:\\users\\rog zephyrus\\anaconda3\\data science\\lib\\site-packages (from pmdarima) (0.13.2)\n",
      "Requirement already satisfied: scikit-learn>=0.22 in c:\\users\\rog zephyrus\\anaconda3\\data science\\lib\\site-packages (from pmdarima) (1.1.1)\n",
      "Requirement already satisfied: pandas>=0.19 in c:\\users\\rog zephyrus\\anaconda3\\data science\\lib\\site-packages (from pmdarima) (1.3.4)\n",
      "Requirement already satisfied: numpy>=1.21 in c:\\users\\rog zephyrus\\anaconda3\\data science\\lib\\site-packages (from pmdarima) (1.22.4)\n",
      "Requirement already satisfied: setuptools!=50.0.0,>=38.6.0 in c:\\users\\rog zephyrus\\anaconda3\\data science\\lib\\site-packages (from pmdarima) (58.0.4)\n",
      "Requirement already satisfied: python-dateutil>=2.7.3 in c:\\users\\rog zephyrus\\anaconda3\\data science\\lib\\site-packages (from pandas>=0.19->pmdarima) (2.8.2)\n",
      "Requirement already satisfied: pytz>=2017.3 in c:\\users\\rog zephyrus\\anaconda3\\data science\\lib\\site-packages (from pandas>=0.19->pmdarima) (2021.3)\n",
      "Requirement already satisfied: six>=1.5 in c:\\users\\rog zephyrus\\anaconda3\\data science\\lib\\site-packages (from python-dateutil>=2.7.3->pandas>=0.19->pmdarima) (1.16.0)\n",
      "Requirement already satisfied: threadpoolctl>=2.0.0 in c:\\users\\rog zephyrus\\anaconda3\\data science\\lib\\site-packages (from scikit-learn>=0.22->pmdarima) (2.2.0)\n",
      "Requirement already satisfied: patsy>=0.5.2 in c:\\users\\rog zephyrus\\anaconda3\\data science\\lib\\site-packages (from statsmodels>=0.13.2->pmdarima) (0.5.2)\n",
      "Requirement already satisfied: packaging>=21.3 in c:\\users\\rog zephyrus\\anaconda3\\data science\\lib\\site-packages (from statsmodels>=0.13.2->pmdarima) (21.3)\n",
      "Requirement already satisfied: pyparsing!=3.0.5,>=2.0.2 in c:\\users\\rog zephyrus\\anaconda3\\data science\\lib\\site-packages (from packaging>=21.3->statsmodels>=0.13.2->pmdarima) (3.0.4)\n"
     ]
    },
    {
     "name": "stderr",
     "output_type": "stream",
     "text": [
      "WARNING: Ignoring invalid distribution -tatsmodels (c:\\users\\rog zephyrus\\anaconda3\\data science\\lib\\site-packages)\n",
      "WARNING: Ignoring invalid distribution -tatsmodels (c:\\users\\rog zephyrus\\anaconda3\\data science\\lib\\site-packages)\n",
      "WARNING: Ignoring invalid distribution -tatsmodels (c:\\users\\rog zephyrus\\anaconda3\\data science\\lib\\site-packages)\n",
      "WARNING: Ignoring invalid distribution -tatsmodels (c:\\users\\rog zephyrus\\anaconda3\\data science\\lib\\site-packages)\n",
      "WARNING: Ignoring invalid distribution -tatsmodels (c:\\users\\rog zephyrus\\anaconda3\\data science\\lib\\site-packages)\n",
      "WARNING: Ignoring invalid distribution -tatsmodels (c:\\users\\rog zephyrus\\anaconda3\\data science\\lib\\site-packages)\n"
     ]
    }
   ],
   "source": [
    "! pip install pmdarima"
   ]
  },
  {
   "cell_type": "markdown",
   "id": "07a8b2e9",
   "metadata": {},
   "source": [
    "# Auto ARIMA"
   ]
  },
  {
   "cell_type": "markdown",
   "id": "1832c115",
   "metadata": {},
   "source": [
    "\n",
    "The auto - ARIMA process seeks to identify the most optimal parameters for an ARIMA model , settling on a single fitted ARIMA model . Auto - ARIMA works by\n",
    "conducting differencing tests to determine the order of differencing , d , and then fitting models within ranges of defined start_p , max_p , start_q , max_q ranges .\n",
    "If the seasonal optional is enabled , auto - ARIMA also seeks to identify the optimal P D , and Q hyper- parameters . In order to find the best model , auto - ARIMA\n",
    "optimizes for a given information_criterion , one of Akaike Information Criterion ( AIC ) , Corrected Akaike Information Criterion ( AICC ) , Bayesian Information\n",
    "Criterion ( BIC ) , Hannan - Quinn Information Criterion ( HQIC ) , or \" out of bag \" ( OOB ) for validation scoring .\n"
   ]
  },
  {
   "cell_type": "code",
   "execution_count": 49,
   "id": "22d933b7",
   "metadata": {},
   "outputs": [
    {
     "name": "stdout",
     "output_type": "stream",
     "text": [
      "Performing stepwise search to minimize bic\n",
      " ARIMA(1,1,1)(1,0,1)[7] intercept   : BIC=2617.912, Time=0.41 sec\n",
      " ARIMA(0,1,0)(0,0,0)[7] intercept   : BIC=3468.933, Time=0.01 sec\n",
      " ARIMA(1,1,0)(1,0,0)[7] intercept   : BIC=inf, Time=0.18 sec\n",
      " ARIMA(0,1,1)(0,0,1)[7] intercept   : BIC=inf, Time=0.22 sec\n",
      " ARIMA(0,1,0)(0,0,0)[7]             : BIC=3530.927, Time=0.01 sec\n",
      " ARIMA(1,1,1)(0,0,1)[7] intercept   : BIC=2648.211, Time=0.29 sec\n",
      " ARIMA(1,1,1)(1,0,0)[7] intercept   : BIC=2635.864, Time=0.29 sec\n",
      " ARIMA(1,1,1)(0,0,0)[7] intercept   : BIC=2675.047, Time=0.29 sec\n",
      " ARIMA(0,1,1)(1,0,1)[7] intercept   : BIC=inf, Time=0.28 sec\n",
      " ARIMA(1,1,0)(1,0,1)[7] intercept   : BIC=2629.307, Time=0.26 sec\n",
      " ARIMA(2,1,1)(1,0,1)[7] intercept   : BIC=2626.565, Time=0.51 sec\n",
      " ARIMA(1,1,2)(1,0,1)[7] intercept   : BIC=2623.159, Time=0.51 sec\n",
      " ARIMA(0,1,0)(1,0,1)[7] intercept   : BIC=3003.781, Time=0.29 sec\n",
      " ARIMA(0,1,2)(1,0,1)[7] intercept   : BIC=inf, Time=0.51 sec\n",
      " ARIMA(2,1,0)(1,0,1)[7] intercept   : BIC=2623.104, Time=0.43 sec\n",
      " ARIMA(2,1,2)(1,0,1)[7] intercept   : BIC=inf, Time=0.57 sec\n",
      " ARIMA(1,1,1)(1,0,1)[7]             : BIC=2620.231, Time=0.40 sec\n",
      "\n",
      "Best model:  ARIMA(1,1,1)(1,0,1)[7] intercept\n",
      "Total fit time: 5.480 seconds\n"
     ]
    }
   ],
   "source": [
    "from pmdarima.arima import auto_arima\n",
    "\n",
    "arima_model = auto_arima ( train.Confirmed , start_p = 1 , d = 1 , start_q = 1 , max_p = 5 , max_d = 2 , max_q = 5 , start_P = 1 , D = None , start_Q = 1, max_P = 1 , max_D = 1 , max_Q= 1 , max_order = 5 , m= 7 , seasonal = True , stationary = False , information_criterion = 'bic' ,alpha = 0.05 , trace = True )\n",
    "\n",
    "\n"
   ]
  },
  {
   "cell_type": "code",
   "execution_count": 50,
   "id": "029f7a3d",
   "metadata": {},
   "outputs": [
    {
     "data": {
      "text/html": [
       "<table class=\"simpletable\">\n",
       "<caption>SARIMAX Results</caption>\n",
       "<tr>\n",
       "  <th>Dep. Variable:</th>                 <td>y</td>               <th>  No. Observations:  </th>    <td>170</td>   \n",
       "</tr>\n",
       "<tr>\n",
       "  <th>Model:</th>           <td>SARIMAX(1, 1, 1)x(1, 0, 1, 7)</td> <th>  Log Likelihood     </th> <td>-1293.566</td>\n",
       "</tr>\n",
       "<tr>\n",
       "  <th>Date:</th>                  <td>Wed, 31 Aug 2022</td>        <th>  AIC                </th> <td>2599.133</td> \n",
       "</tr>\n",
       "<tr>\n",
       "  <th>Time:</th>                      <td>14:03:04</td>            <th>  BIC                </th> <td>2617.912</td> \n",
       "</tr>\n",
       "<tr>\n",
       "  <th>Sample:</th>                   <td>01-22-2020</td>           <th>  HQIC               </th> <td>2606.754</td> \n",
       "</tr>\n",
       "<tr>\n",
       "  <th></th>                         <td>- 07-09-2020</td>          <th>                     </th>     <td> </td>    \n",
       "</tr>\n",
       "<tr>\n",
       "  <th>Covariance Type:</th>              <td>opg</td>              <th>                     </th>     <td> </td>    \n",
       "</tr>\n",
       "</table>\n",
       "<table class=\"simpletable\">\n",
       "<tr>\n",
       "      <td></td>         <th>coef</th>     <th>std err</th>      <th>z</th>      <th>P>|z|</th>  <th>[0.025</th>    <th>0.975]</th>  \n",
       "</tr>\n",
       "<tr>\n",
       "  <th>intercept</th> <td>   34.9645</td> <td>   17.175</td> <td>    2.036</td> <td> 0.042</td> <td>    1.303</td> <td>   68.626</td>\n",
       "</tr>\n",
       "<tr>\n",
       "  <th>ar.L1</th>     <td>    1.0000</td> <td>    0.009</td> <td>  115.720</td> <td> 0.000</td> <td>    0.983</td> <td>    1.017</td>\n",
       "</tr>\n",
       "<tr>\n",
       "  <th>ma.L1</th>     <td>   -0.4069</td> <td>    0.052</td> <td>   -7.756</td> <td> 0.000</td> <td>   -0.510</td> <td>   -0.304</td>\n",
       "</tr>\n",
       "<tr>\n",
       "  <th>ar.S.L7</th>   <td>    0.9557</td> <td>    0.051</td> <td>   18.680</td> <td> 0.000</td> <td>    0.855</td> <td>    1.056</td>\n",
       "</tr>\n",
       "<tr>\n",
       "  <th>ma.S.L7</th>   <td>   -0.5384</td> <td>    0.090</td> <td>   -5.963</td> <td> 0.000</td> <td>   -0.715</td> <td>   -0.361</td>\n",
       "</tr>\n",
       "<tr>\n",
       "  <th>sigma2</th>    <td> 2.354e+05</td> <td> 1.93e+04</td> <td>   12.206</td> <td> 0.000</td> <td> 1.98e+05</td> <td> 2.73e+05</td>\n",
       "</tr>\n",
       "</table>\n",
       "<table class=\"simpletable\">\n",
       "<tr>\n",
       "  <th>Ljung-Box (L1) (Q):</th>     <td>0.22</td>  <th>  Jarque-Bera (JB):  </th> <td>39.65</td>\n",
       "</tr>\n",
       "<tr>\n",
       "  <th>Prob(Q):</th>                <td>0.64</td>  <th>  Prob(JB):          </th> <td>0.00</td> \n",
       "</tr>\n",
       "<tr>\n",
       "  <th>Heteroskedasticity (H):</th> <td>59.16</td> <th>  Skew:              </th> <td>0.31</td> \n",
       "</tr>\n",
       "<tr>\n",
       "  <th>Prob(H) (two-sided):</th>    <td>0.00</td>  <th>  Kurtosis:          </th> <td>5.29</td> \n",
       "</tr>\n",
       "</table><br/><br/>Warnings:<br/>[1] Covariance matrix calculated using the outer product of gradients (complex-step)."
      ],
      "text/plain": [
       "<class 'statsmodels.iolib.summary.Summary'>\n",
       "\"\"\"\n",
       "                                     SARIMAX Results                                     \n",
       "=========================================================================================\n",
       "Dep. Variable:                                 y   No. Observations:                  170\n",
       "Model:             SARIMAX(1, 1, 1)x(1, 0, 1, 7)   Log Likelihood               -1293.566\n",
       "Date:                           Wed, 31 Aug 2022   AIC                           2599.133\n",
       "Time:                                   14:03:04   BIC                           2617.912\n",
       "Sample:                               01-22-2020   HQIC                          2606.754\n",
       "                                    - 07-09-2020                                         \n",
       "Covariance Type:                             opg                                         \n",
       "==============================================================================\n",
       "                 coef    std err          z      P>|z|      [0.025      0.975]\n",
       "------------------------------------------------------------------------------\n",
       "intercept     34.9645     17.175      2.036      0.042       1.303      68.626\n",
       "ar.L1          1.0000      0.009    115.720      0.000       0.983       1.017\n",
       "ma.L1         -0.4069      0.052     -7.756      0.000      -0.510      -0.304\n",
       "ar.S.L7        0.9557      0.051     18.680      0.000       0.855       1.056\n",
       "ma.S.L7       -0.5384      0.090     -5.963      0.000      -0.715      -0.361\n",
       "sigma2      2.354e+05   1.93e+04     12.206      0.000    1.98e+05    2.73e+05\n",
       "===================================================================================\n",
       "Ljung-Box (L1) (Q):                   0.22   Jarque-Bera (JB):                39.65\n",
       "Prob(Q):                              0.64   Prob(JB):                         0.00\n",
       "Heteroskedasticity (H):              59.16   Skew:                             0.31\n",
       "Prob(H) (two-sided):                  0.00   Kurtosis:                         5.29\n",
       "===================================================================================\n",
       "\n",
       "Warnings:\n",
       "[1] Covariance matrix calculated using the outer product of gradients (complex-step).\n",
       "\"\"\""
      ]
     },
     "execution_count": 50,
     "metadata": {},
     "output_type": "execute_result"
    }
   ],
   "source": [
    "arima_model.summary ( )\n"
   ]
  },
  {
   "cell_type": "code",
   "execution_count": 51,
   "id": "d6228fb6",
   "metadata": {},
   "outputs": [],
   "source": [
    "test ['AutoArima'] = forecast"
   ]
  },
  {
   "cell_type": "code",
   "execution_count": 52,
   "id": "56b97fd8",
   "metadata": {},
   "outputs": [
    {
     "data": {
      "image/png": "[encoded data removed]",
      "text/plain": [
       "<Figure size 640x480 with 1 Axes>"
      ]
     },
     "metadata": {
      "needs_background": "light"
     },
     "output_type": "display_data"
    }
   ],
   "source": [
    "# Plot actual and predicted data\n",
    "plt.figure ( num =None , figsize = ( 8 , 6 ) , dpi = 80 )\n",
    "plt.plot ( test.Confirmed , label = \" Test Data \" )\n",
    "plt.plot ( test.AutoArima , 'r--' , label = \" Predicted Data \" )\n",
    "plt.legend ( )\n",
    "plt.title ( ' COVID - 19 Actual and Predicted Confirmed cases using Auto ARIMA ' )\n",
    "plt.show ( )"
   ]
  },
  {
   "cell_type": "code",
   "execution_count": 53,
   "id": "22ca870e",
   "metadata": {},
   "outputs": [
    {
     "data": {
      "image/png": "[encoded data removed]",
      "text/plain": [
       "<Figure size 432x288 with 1 Axes>"
      ]
     },
     "metadata": {
      "needs_background": "light"
     },
     "output_type": "display_data"
    }
   ],
   "source": [
    "# Scatter plot the data to get an intiution of the correlation to be used\n",
    "import matplotlib.pyplot as plt\n",
    " \n",
    "    \n",
    "plt.scatter ( train.Confirmed ,train.Recovered )\n",
    "\n",
    "plt.show ( )\n"
   ]
  },
  {
   "cell_type": "markdown",
   "id": "0fb40755",
   "metadata": {},
   "source": [
    "According to the scatter plot , the Confirmed cases and Recovered cases look linearly related to the Fatalities . Hence , we can use Pearson's correlation .\n",
    "\n",
    "However , if we feel that a scatterplot is visually indicating a \" might be monotonic , might be linear relationship , our best bet would be to apply Spearman and\n",
    "not Pearson . No harm would be done by switching to Spearman even if the data turned out to be perfectly linear . But , if it's not exactly linear and we use.\n",
    "Pearson's coefficient then we'll miss out on the information that Spearman could capture .\n"
   ]
  },
  {
   "cell_type": "code",
   "execution_count": 54,
   "id": "1d4b8fb1",
   "metadata": {},
   "outputs": [],
   "source": [
    "from scipy.stats import pearsonr\n"
   ]
  },
  {
   "cell_type": "code",
   "execution_count": 55,
   "id": "b17ede83",
   "metadata": {},
   "outputs": [
    {
     "name": "stdout",
     "output_type": "stream",
     "text": [
      "0.9955822343844385 1.5610343732891882e-174\n"
     ]
    }
   ],
   "source": [
    "corr , p = pearsonr ( train . Recovered , train.Confirmed )\n",
    "print ( corr , p )\n"
   ]
  },
  {
   "cell_type": "markdown",
   "id": "b7d21f05",
   "metadata": {},
   "source": [
    "We can see that the variables are positively correlated . This suggests a high level of correlation , e.g. a value above 0.5 and close to 1.0 .\n",
    "\n",
    "Although Pearson's correlation has given enough evidence to use the Deaths variable and Recovered variable as exogenous variables . Let's still see how\n",
    "Spearman's correlation looks like ."
   ]
  },
  {
   "cell_type": "code",
   "execution_count": 56,
   "id": "5075b78e",
   "metadata": {},
   "outputs": [
    {
     "name": "stdout",
     "output_type": "stream",
     "text": [
      "0.9936995884356098 1.2875296628064113e-161\n"
     ]
    }
   ],
   "source": [
    "from scipy.stats import spearmanr\n",
    "\n",
    "corr , p = spearmanr ( train . Recovered , train.Confirmed )\n",
    "print ( corr , p )"
   ]
  },
  {
   "cell_type": "markdown",
   "id": "eb1fb355",
   "metadata": {},
   "source": [
    "Let's go ahead and include the Confirmed cases as exogenous variable in the time - series model .\n"
   ]
  },
  {
   "cell_type": "code",
   "execution_count": 57,
   "id": "7e254760",
   "metadata": {},
   "outputs": [
    {
     "name": "stderr",
     "output_type": "stream",
     "text": [
      "C:\\Users\\ROG ZEPHYRUS\\anaconda3\\Data science\\lib\\site-packages\\statsmodels\\tsa\\base\\tsa_model.py:471: ValueWarning: No frequency information was provided, so inferred frequency D will be used.\n",
      "  self._init_dates(dates, freq)\n",
      "C:\\Users\\ROG ZEPHYRUS\\anaconda3\\Data science\\lib\\site-packages\\statsmodels\\tsa\\base\\tsa_model.py:471: ValueWarning: No frequency information was provided, so inferred frequency D will be used.\n",
      "  self._init_dates(dates, freq)\n"
     ]
    },
    {
     "name": "stdout",
     "output_type": "stream",
     "text": [
      "                               SARIMAX Results                                \n",
      "==============================================================================\n",
      "Dep. Variable:              Confirmed   No. Observations:                  170\n",
      "Model:               SARIMAX(1, 1, 1)   Log Likelihood               -1329.492\n",
      "Date:                Wed, 31 Aug 2022   AIC                           2666.984\n",
      "Time:                        14:03:05   BIC                           2679.503\n",
      "Sample:                    01-22-2020   HQIC                          2672.065\n",
      "                         - 07-09-2020                                         \n",
      "Covariance Type:                  opg                                         \n",
      "==============================================================================\n",
      "                 coef    std err          z      P>|z|      [0.025      0.975]\n",
      "------------------------------------------------------------------------------\n",
      "Recovered      0.0531      0.018      2.884      0.004       0.017       0.089\n",
      "ar.L1          1.0000      0.004    240.037      0.000       0.992       1.008\n",
      "ma.L1          0.1145      0.048      2.405      0.016       0.021       0.208\n",
      "sigma2      3.972e+05   2.84e+04     13.992      0.000    3.42e+05    4.53e+05\n",
      "===================================================================================\n",
      "Ljung-Box (L1) (Q):                   0.63   Jarque-Bera (JB):                76.55\n",
      "Prob(Q):                              0.43   Prob(JB):                         0.00\n",
      "Heteroskedasticity (H):           28046.36   Skew:                             0.22\n",
      "Prob(H) (two-sided):                  0.00   Kurtosis:                         6.27\n",
      "===================================================================================\n",
      "\n",
      "Warnings:\n",
      "[1] Covariance matrix calculated using the outer product of gradients (complex-step).\n"
     ]
    }
   ],
   "source": [
    "# Fit the SARIMA model\n",
    "from statsmodels.tsa.statespace.sarimax import SARIMAX\n",
    "model = SARIMAX ( train.Confirmed , order = ( 1,1,1 ) , seasonal_order = ( 0,0,0,0 ) , exog = train . Recovered )\n",
    "model_fit = model.fit ( )\n",
    "# summary of fit model\n",
    "        \n",
    "print ( model_fit.summary ( ) )\n",
    "                               "
   ]
  },
  {
   "cell_type": "code",
   "execution_count": 58,
   "id": "bff355c1",
   "metadata": {},
   "outputs": [
    {
     "data": {
      "text/plain": [
       "2020-07-10     495513.0\n",
       "2020-07-11     515386.0\n",
       "2020-07-12     534618.0\n",
       "2020-07-13     553471.0\n",
       "2020-07-14     571460.0\n",
       "                ...    \n",
       "2020-09-17    4025079.0\n",
       "2020-09-18    4112551.0\n",
       "2020-09-19    4208431.0\n",
       "2020-09-20    4303043.0\n",
       "2020-09-21    4396399.0\n",
       "Name: Recovered1, Length: 74, dtype: float64"
      ]
     },
     "execution_count": 58,
     "metadata": {},
     "output_type": "execute_result"
    }
   ],
   "source": [
    "# Use the previous value of recovered cases to model the confirmed cases of next day\n",
    "test ['Recovered1'] = test.Recovered.shift(1)\n",
    "test.Recovered1[0]= train.Recovered [-1]\n",
    "test.Recovered1                                    "
   ]
  },
  {
   "cell_type": "code",
   "execution_count": 59,
   "id": "72583b75",
   "metadata": {},
   "outputs": [
    {
     "data": {
      "text/plain": [
       "2020-07-10    8.194556e+05\n",
       "2020-07-11    8.461646e+05\n",
       "2020-07-12    8.728395e+05\n",
       "2020-07-13    8.994943e+05\n",
       "2020-07-14    9.261032e+05\n",
       "                  ...     \n",
       "2020-09-17    2.776990e+06\n",
       "2020-09-18    2.807289e+06\n",
       "2020-09-19    2.838034e+06\n",
       "2020-09-20    2.868712e+06\n",
       "2020-09-21    2.899323e+06\n",
       "Freq: D, Name: predicted_mean, Length: 74, dtype: float64"
      ]
     },
     "execution_count": 59,
     "metadata": {},
     "output_type": "execute_result"
    }
   ],
   "source": [
    "# Perform out - of - sample predictions for the entire test data\n",
    "import numpy as np\n",
    "forecast=model_fit.predict ( start = ( train.Confirmed.shape [ 0 ] ) , end= ( train.Deaths.shape [ 0 ] + len ( test ) -1 ) , exog = test.Recovered1)\n",
    "forecast"
   ]
  },
  {
   "cell_type": "code",
   "execution_count": 60,
   "id": "3349abd0",
   "metadata": {},
   "outputs": [
    {
     "name": "stdout",
     "output_type": "stream",
     "text": [
      "1255312.3954793285\n"
     ]
    }
   ],
   "source": [
    "# Calculate the error between actual and predicted values\n",
    "error = sqrt ( metrics.mean_squared_error ( test.Confirmed , forecast ) )\n",
    "print ( error )\n",
    "\n"
   ]
  },
  {
   "cell_type": "code",
   "execution_count": 61,
   "id": "160da3f5",
   "metadata": {},
   "outputs": [],
   "source": [
    "test ['SARIMAX'] = forecast"
   ]
  },
  {
   "cell_type": "code",
   "execution_count": 62,
   "id": "f35144f1",
   "metadata": {},
   "outputs": [
    {
     "data": {
      "image/png": "[encoded data removed]",
      "text/plain": [
       "<Figure size 640x480 with 1 Axes>"
      ]
     },
     "metadata": {
      "needs_background": "light"
     },
     "output_type": "display_data"
    }
   ],
   "source": [
    "# Plot actual and predicted data\n",
    "plt.figure ( num = None , figsize = ( 8 , 6 ) , dpi = 80 )\n",
    "plt.plot ( test.Confirmed , label = \" Test Data \" )\n",
    "plt.plot ( test.SARIMAX , '--' , label = \" Predicted Data \" )\n",
    "plt.legend ( )\n",
    "plt.title ( ' COVID - 19 Actual and Predicted Confirmed cases using SARIMAX model ' )\n",
    "plt.show ( )\n",
    "                               "
   ]
  },
  {
   "cell_type": "markdown",
   "id": "4fe1b849",
   "metadata": {},
   "source": [
    "Let's try SARIMAX model using walk - forward validation .\n"
   ]
  },
  {
   "cell_type": "code",
   "execution_count": 63,
   "id": "66182861",
   "metadata": {},
   "outputs": [
    {
     "name": "stderr",
     "output_type": "stream",
     "text": [
      "C:\\Users\\ROG ZEPHYRUS\\anaconda3\\Data science\\lib\\site-packages\\statsmodels\\base\\model.py:604: ConvergenceWarning: Maximum Likelihood optimization failed to converge. Check mle_retvals\n",
      "  warnings.warn(\"Maximum Likelihood optimization failed to \"\n",
      "C:\\Users\\ROG ZEPHYRUS\\anaconda3\\Data science\\lib\\site-packages\\statsmodels\\base\\model.py:604: ConvergenceWarning: Maximum Likelihood optimization failed to converge. Check mle_retvals\n",
      "  warnings.warn(\"Maximum Likelihood optimization failed to \"\n",
      "C:\\Users\\ROG ZEPHYRUS\\anaconda3\\Data science\\lib\\site-packages\\statsmodels\\base\\model.py:604: ConvergenceWarning: Maximum Likelihood optimization failed to converge. Check mle_retvals\n",
      "  warnings.warn(\"Maximum Likelihood optimization failed to \"\n",
      "C:\\Users\\ROG ZEPHYRUS\\anaconda3\\Data science\\lib\\site-packages\\statsmodels\\base\\model.py:604: ConvergenceWarning: Maximum Likelihood optimization failed to converge. Check mle_retvals\n",
      "  warnings.warn(\"Maximum Likelihood optimization failed to \"\n"
     ]
    }
   ],
   "source": [
    " # Perform out - of - sample predictions using walk forward validation\n",
    "pred_ARIMA = [ ]\n",
    "X = train.Confirmed.values\n",
    "y = train.Recovered.values\n",
    " # For every element in test , make a prediction , append the test point to training set and Loop ahead\n",
    "for index , i in test.iterrows( ) :\n",
    "    model_fit = model = SARIMAX ( X , order = ( 1,1,1 ) , seasonal_order = ( 0,0,0,0 ) , exog = y).fit()\n",
    "    pred=model_fit.forecast ( exog = np.asarray( y [ -1 ] ).reshape(1,1))\n",
    "    pred_ARIMA.append(pred)\n",
    "\n",
    "    X = np.append ( X , i.Confirmed )\n",
    "    y = np.append ( y , i.Recovered )"
   ]
  },
  {
   "cell_type": "code",
   "execution_count": 64,
   "id": "ca681374",
   "metadata": {},
   "outputs": [
    {
     "name": "stdout",
     "output_type": "stream",
     "text": [
      "21698.988684084623\n"
     ]
    },
    {
     "data": {
      "image/png": "[encoded data removed]",
      "text/plain": [
       "<Figure size 640x480 with 1 Axes>"
      ]
     },
     "metadata": {
      "needs_background": "light"
     },
     "output_type": "display_data"
    }
   ],
   "source": [
    "# Add a column in test with prediction by SARIMAX model\n",
    "test['pred_SARIMAX'] = pred_ARIMA\n",
    "error = sqrt(metrics.mean_squared_error ( test.Confirmed , test.pred_SARIMAX ) )\n",
    "print ( error )\n",
    "# Plot actual and predicted data\n",
    "plt.figure ( num = None , figsize = ( 8 , 6 ) , dpi = 80 )\n",
    "plt.plot ( test.Confirmed , label = \" Test Data \" )\n",
    "plt.plot ( test.pred_SARIMAX , 'r--' , label = \" Predicted Data \" )\n",
    "plt.legend ( )\n",
    "plt.title ('COVID - 19 Actual and Predicted Confirmed cases using SARIMAX model and walk forward validation')\n",
    "plt.show ( )"
   ]
  },
  {
   "cell_type": "markdown",
   "id": "2025dbcf",
   "metadata": {},
   "source": [
    "Let's try applying triple exponential smoothing on our data .\n"
   ]
  },
  {
   "cell_type": "code",
   "execution_count": 65,
   "id": "fba10f9b",
   "metadata": {},
   "outputs": [
    {
     "name": "stderr",
     "output_type": "stream",
     "text": [
      "C:\\Users\\ROG ZEPHYRUS\\anaconda3\\Data science\\lib\\site-packages\\statsmodels\\tsa\\holtwinters\\model.py:915: ConvergenceWarning: Optimization failed to converge. Check mle_retvals.\n",
      "  warnings.warn(\n"
     ]
    }
   ],
   "source": [
    "#Using statsmodel package for exponential smoothing\n",
    "from statsmodels.tsa.holtwinters import ExponentialSmoothing\n",
    "model = ExponentialSmoothing ( train.Confirmed.values , trend =\"additive\", damped = True )\n",
    "model_fit = model.fit()"
   ]
  },
  {
   "cell_type": "markdown",
   "id": "9a2c579d",
   "metadata": {},
   "source": [
    "Here we are using level smoothing and trend smoothing , so this becomes a double exponential smoothing model , if we include the seasonal parameter as\n",
    "well , it will become a triple exponential smoothing model .\n",
    "\n"
   ]
  },
  {
   "cell_type": "code",
   "execution_count": 66,
   "id": "5fc287bc",
   "metadata": {},
   "outputs": [],
   "source": [
    "# Predict for future values using exponential smoothing parameters\n",
    "predictions_ = model_fit.predict(len(train),len(train)+len(test)-1)"
   ]
  },
  {
   "cell_type": "code",
   "execution_count": 67,
   "id": "73224dca",
   "metadata": {},
   "outputs": [
    {
     "name": "stdout",
     "output_type": "stream",
     "text": [
      "1598304.6630205568\n"
     ]
    },
    {
     "data": {
      "image/png": "[encoded data removed]",
      "text/plain": [
       "<Figure size 640x480 with 1 Axes>"
      ]
     },
     "metadata": {
      "needs_background": "light"
     },
     "output_type": "display_data"
    }
   ],
   "source": [
    "# Add a column in test with prediction by DES model\n",
    "test ['pred_ES'] = predictions_\n",
    "error = sqrt ( metrics.mean_squared_error ( test.Confirmed , test.pred_ES ) )\n",
    "print ( error )\n",
    "# Plot actual and predicted data\n",
    "plt.figure ( num = None , figsize = ( 8 , 6 ) , dpi = 80 )\n",
    "plt.plot ( test.Confirmed , label = \" Test Data \" )\n",
    "plt.plot ( test.pred_ES , 'r--' , label = \" Predicted Data \" )\n",
    "plt.legend ( )\n",
    "plt.title ( ' COVID - 19 Actual and Predicted Confirmed cases using Double Exponential Smoothing ' )\n",
    "plt.show ( )"
   ]
  },
  {
   "cell_type": "markdown",
   "id": "a7650dc2",
   "metadata": {},
   "source": [
    "Let's also try exponential smoothing with walk - forward validation .\n"
   ]
  },
  {
   "cell_type": "code",
   "execution_count": 68,
   "id": "82af8293",
   "metadata": {},
   "outputs": [
    {
     "name": "stdout",
     "output_type": "stream",
     "text": [
      "820026.3085604989\n"
     ]
    },
    {
     "name": "stderr",
     "output_type": "stream",
     "text": [
      "C:\\Users\\ROG ZEPHYRUS\\anaconda3\\Data science\\lib\\site-packages\\statsmodels\\tsa\\holtwinters\\model.py:915: ConvergenceWarning: Optimization failed to converge. Check mle_retvals.\n",
      "  warnings.warn(\n",
      "C:\\Users\\ROG ZEPHYRUS\\anaconda3\\Data science\\lib\\site-packages\\statsmodels\\tsa\\holtwinters\\model.py:915: ConvergenceWarning: Optimization failed to converge. Check mle_retvals.\n",
      "  warnings.warn(\n",
      "C:\\Users\\ROG ZEPHYRUS\\anaconda3\\Data science\\lib\\site-packages\\statsmodels\\tsa\\holtwinters\\model.py:915: ConvergenceWarning: Optimization failed to converge. Check mle_retvals.\n",
      "  warnings.warn(\n",
      "C:\\Users\\ROG ZEPHYRUS\\anaconda3\\Data science\\lib\\site-packages\\statsmodels\\tsa\\holtwinters\\model.py:915: ConvergenceWarning: Optimization failed to converge. Check mle_retvals.\n",
      "  warnings.warn(\n",
      "C:\\Users\\ROG ZEPHYRUS\\anaconda3\\Data science\\lib\\site-packages\\statsmodels\\tsa\\holtwinters\\model.py:915: ConvergenceWarning: Optimization failed to converge. Check mle_retvals.\n",
      "  warnings.warn(\n",
      "C:\\Users\\ROG ZEPHYRUS\\anaconda3\\Data science\\lib\\site-packages\\statsmodels\\tsa\\holtwinters\\model.py:915: ConvergenceWarning: Optimization failed to converge. Check mle_retvals.\n",
      "  warnings.warn(\n",
      "C:\\Users\\ROG ZEPHYRUS\\anaconda3\\Data science\\lib\\site-packages\\statsmodels\\tsa\\holtwinters\\model.py:915: ConvergenceWarning: Optimization failed to converge. Check mle_retvals.\n",
      "  warnings.warn(\n",
      "C:\\Users\\ROG ZEPHYRUS\\anaconda3\\Data science\\lib\\site-packages\\statsmodels\\tsa\\holtwinters\\model.py:915: ConvergenceWarning: Optimization failed to converge. Check mle_retvals.\n",
      "  warnings.warn(\n",
      "C:\\Users\\ROG ZEPHYRUS\\anaconda3\\Data science\\lib\\site-packages\\statsmodels\\tsa\\holtwinters\\model.py:915: ConvergenceWarning: Optimization failed to converge. Check mle_retvals.\n",
      "  warnings.warn(\n"
     ]
    },
    {
     "name": "stdout",
     "output_type": "stream",
     "text": [
      "847755.0683393785\n",
      "877820.0604224409\n",
      "906700.9713520189\n",
      "934966.4089370131\n",
      "965297.8952460976\n",
      "1001159.3096527712\n",
      "1038435.1106314443\n",
      "1073987.0574256391\n",
      "1116037.8061580951\n",
      "1158213.2775902962\n",
      "1192152.1830324924\n",
      "1230412.5956170824\n",
      "1283940.647807442\n",
      "1336904.417345993\n",
      "1385469.689571479\n",
      "1433758.0229001855\n"
     ]
    },
    {
     "name": "stderr",
     "output_type": "stream",
     "text": [
      "C:\\Users\\ROG ZEPHYRUS\\anaconda3\\Data science\\lib\\site-packages\\statsmodels\\tsa\\holtwinters\\model.py:915: ConvergenceWarning: Optimization failed to converge. Check mle_retvals.\n",
      "  warnings.warn(\n",
      "C:\\Users\\ROG ZEPHYRUS\\anaconda3\\Data science\\lib\\site-packages\\statsmodels\\tsa\\holtwinters\\model.py:915: ConvergenceWarning: Optimization failed to converge. Check mle_retvals.\n",
      "  warnings.warn(\n",
      "C:\\Users\\ROG ZEPHYRUS\\anaconda3\\Data science\\lib\\site-packages\\statsmodels\\tsa\\holtwinters\\model.py:915: ConvergenceWarning: Optimization failed to converge. Check mle_retvals.\n",
      "  warnings.warn(\n",
      "C:\\Users\\ROG ZEPHYRUS\\anaconda3\\Data science\\lib\\site-packages\\statsmodels\\tsa\\holtwinters\\model.py:915: ConvergenceWarning: Optimization failed to converge. Check mle_retvals.\n",
      "  warnings.warn(\n",
      "C:\\Users\\ROG ZEPHYRUS\\anaconda3\\Data science\\lib\\site-packages\\statsmodels\\tsa\\holtwinters\\model.py:915: ConvergenceWarning: Optimization failed to converge. Check mle_retvals.\n",
      "  warnings.warn(\n",
      "C:\\Users\\ROG ZEPHYRUS\\anaconda3\\Data science\\lib\\site-packages\\statsmodels\\tsa\\holtwinters\\model.py:915: ConvergenceWarning: Optimization failed to converge. Check mle_retvals.\n",
      "  warnings.warn(\n",
      "C:\\Users\\ROG ZEPHYRUS\\anaconda3\\Data science\\lib\\site-packages\\statsmodels\\tsa\\holtwinters\\model.py:915: ConvergenceWarning: Optimization failed to converge. Check mle_retvals.\n",
      "  warnings.warn(\n",
      "C:\\Users\\ROG ZEPHYRUS\\anaconda3\\Data science\\lib\\site-packages\\statsmodels\\tsa\\holtwinters\\model.py:915: ConvergenceWarning: Optimization failed to converge. Check mle_retvals.\n",
      "  warnings.warn(\n",
      "C:\\Users\\ROG ZEPHYRUS\\anaconda3\\Data science\\lib\\site-packages\\statsmodels\\tsa\\holtwinters\\model.py:915: ConvergenceWarning: Optimization failed to converge. Check mle_retvals.\n",
      "  warnings.warn(\n"
     ]
    },
    {
     "name": "stdout",
     "output_type": "stream",
     "text": [
      "1485070.3704127672\n",
      "1524168.9641208765\n",
      "1582612.738107746\n",
      "1631800.850194389\n",
      "1686954.1439567208\n",
      "1756497.77762443\n",
      "1805041.268848272\n",
      "1856128.720936444\n",
      "1907273.543914061\n"
     ]
    },
    {
     "name": "stderr",
     "output_type": "stream",
     "text": [
      "C:\\Users\\ROG ZEPHYRUS\\anaconda3\\Data science\\lib\\site-packages\\statsmodels\\tsa\\holtwinters\\model.py:915: ConvergenceWarning: Optimization failed to converge. Check mle_retvals.\n",
      "  warnings.warn(\n",
      "C:\\Users\\ROG ZEPHYRUS\\anaconda3\\Data science\\lib\\site-packages\\statsmodels\\tsa\\holtwinters\\model.py:915: ConvergenceWarning: Optimization failed to converge. Check mle_retvals.\n",
      "  warnings.warn(\n",
      "C:\\Users\\ROG ZEPHYRUS\\anaconda3\\Data science\\lib\\site-packages\\statsmodels\\tsa\\holtwinters\\model.py:915: ConvergenceWarning: Optimization failed to converge. Check mle_retvals.\n",
      "  warnings.warn(\n",
      "C:\\Users\\ROG ZEPHYRUS\\anaconda3\\Data science\\lib\\site-packages\\statsmodels\\tsa\\holtwinters\\model.py:915: ConvergenceWarning: Optimization failed to converge. Check mle_retvals.\n",
      "  warnings.warn(\n",
      "C:\\Users\\ROG ZEPHYRUS\\anaconda3\\Data science\\lib\\site-packages\\statsmodels\\tsa\\holtwinters\\model.py:915: ConvergenceWarning: Optimization failed to converge. Check mle_retvals.\n",
      "  warnings.warn(\n",
      "C:\\Users\\ROG ZEPHYRUS\\anaconda3\\Data science\\lib\\site-packages\\statsmodels\\tsa\\holtwinters\\model.py:915: ConvergenceWarning: Optimization failed to converge. Check mle_retvals.\n",
      "  warnings.warn(\n",
      "C:\\Users\\ROG ZEPHYRUS\\anaconda3\\Data science\\lib\\site-packages\\statsmodels\\tsa\\holtwinters\\model.py:915: ConvergenceWarning: Optimization failed to converge. Check mle_retvals.\n",
      "  warnings.warn(\n",
      "C:\\Users\\ROG ZEPHYRUS\\anaconda3\\Data science\\lib\\site-packages\\statsmodels\\tsa\\holtwinters\\model.py:915: ConvergenceWarning: Optimization failed to converge. Check mle_retvals.\n",
      "  warnings.warn(\n",
      "C:\\Users\\ROG ZEPHYRUS\\anaconda3\\Data science\\lib\\site-packages\\statsmodels\\tsa\\holtwinters\\model.py:915: ConvergenceWarning: Optimization failed to converge. Check mle_retvals.\n",
      "  warnings.warn(\n"
     ]
    },
    {
     "name": "stdout",
     "output_type": "stream",
     "text": [
      "1960500.454958211\n",
      "2020195.8528915052\n",
      "2088905.6629832666\n",
      "2149571.060013729\n",
      "2217087.004848571\n",
      "2276558.754307883\n",
      "2321849.1527544535\n",
      "2389661.643727738\n"
     ]
    },
    {
     "name": "stderr",
     "output_type": "stream",
     "text": [
      "C:\\Users\\ROG ZEPHYRUS\\anaconda3\\Data science\\lib\\site-packages\\statsmodels\\tsa\\holtwinters\\model.py:915: ConvergenceWarning: Optimization failed to converge. Check mle_retvals.\n",
      "  warnings.warn(\n",
      "C:\\Users\\ROG ZEPHYRUS\\anaconda3\\Data science\\lib\\site-packages\\statsmodels\\tsa\\holtwinters\\model.py:915: ConvergenceWarning: Optimization failed to converge. Check mle_retvals.\n",
      "  warnings.warn(\n",
      "C:\\Users\\ROG ZEPHYRUS\\anaconda3\\Data science\\lib\\site-packages\\statsmodels\\tsa\\holtwinters\\model.py:915: ConvergenceWarning: Optimization failed to converge. Check mle_retvals.\n",
      "  warnings.warn(\n",
      "C:\\Users\\ROG ZEPHYRUS\\anaconda3\\Data science\\lib\\site-packages\\statsmodels\\tsa\\holtwinters\\model.py:915: ConvergenceWarning: Optimization failed to converge. Check mle_retvals.\n",
      "  warnings.warn(\n",
      "C:\\Users\\ROG ZEPHYRUS\\anaconda3\\Data science\\lib\\site-packages\\statsmodels\\tsa\\holtwinters\\model.py:915: ConvergenceWarning: Optimization failed to converge. Check mle_retvals.\n",
      "  warnings.warn(\n",
      "C:\\Users\\ROG ZEPHYRUS\\anaconda3\\Data science\\lib\\site-packages\\statsmodels\\tsa\\holtwinters\\model.py:915: ConvergenceWarning: Optimization failed to converge. Check mle_retvals.\n",
      "  warnings.warn(\n",
      "C:\\Users\\ROG ZEPHYRUS\\anaconda3\\Data science\\lib\\site-packages\\statsmodels\\tsa\\holtwinters\\model.py:915: ConvergenceWarning: Optimization failed to converge. Check mle_retvals.\n",
      "  warnings.warn(\n",
      "C:\\Users\\ROG ZEPHYRUS\\anaconda3\\Data science\\lib\\site-packages\\statsmodels\\tsa\\holtwinters\\model.py:915: ConvergenceWarning: Optimization failed to converge. Check mle_retvals.\n",
      "  warnings.warn(\n",
      "C:\\Users\\ROG ZEPHYRUS\\anaconda3\\Data science\\lib\\site-packages\\statsmodels\\tsa\\holtwinters\\model.py:915: ConvergenceWarning: Optimization failed to converge. Check mle_retvals.\n",
      "  warnings.warn(\n"
     ]
    },
    {
     "name": "stdout",
     "output_type": "stream",
     "text": [
      "2462903.4054236836\n",
      "2525156.6198864155\n",
      "2590330.3399463454\n",
      "2653346.006489927\n",
      "2704881.2538158474\n",
      "2757153.4184434493\n",
      "2831018.154943062\n",
      "2905862.407131772\n",
      "2974065.7953234687\n"
     ]
    },
    {
     "name": "stderr",
     "output_type": "stream",
     "text": [
      "C:\\Users\\ROG ZEPHYRUS\\anaconda3\\Data science\\lib\\site-packages\\statsmodels\\tsa\\holtwinters\\model.py:915: ConvergenceWarning: Optimization failed to converge. Check mle_retvals.\n",
      "  warnings.warn(\n",
      "C:\\Users\\ROG ZEPHYRUS\\anaconda3\\Data science\\lib\\site-packages\\statsmodels\\tsa\\holtwinters\\model.py:915: ConvergenceWarning: Optimization failed to converge. Check mle_retvals.\n",
      "  warnings.warn(\n",
      "C:\\Users\\ROG ZEPHYRUS\\anaconda3\\Data science\\lib\\site-packages\\statsmodels\\tsa\\holtwinters\\model.py:915: ConvergenceWarning: Optimization failed to converge. Check mle_retvals.\n",
      "  warnings.warn(\n",
      "C:\\Users\\ROG ZEPHYRUS\\anaconda3\\Data science\\lib\\site-packages\\statsmodels\\tsa\\holtwinters\\model.py:915: ConvergenceWarning: Optimization failed to converge. Check mle_retvals.\n",
      "  warnings.warn(\n",
      "C:\\Users\\ROG ZEPHYRUS\\anaconda3\\Data science\\lib\\site-packages\\statsmodels\\tsa\\holtwinters\\model.py:915: ConvergenceWarning: Optimization failed to converge. Check mle_retvals.\n",
      "  warnings.warn(\n",
      "C:\\Users\\ROG ZEPHYRUS\\anaconda3\\Data science\\lib\\site-packages\\statsmodels\\tsa\\holtwinters\\model.py:915: ConvergenceWarning: Optimization failed to converge. Check mle_retvals.\n",
      "  warnings.warn(\n",
      "C:\\Users\\ROG ZEPHYRUS\\anaconda3\\Data science\\lib\\site-packages\\statsmodels\\tsa\\holtwinters\\model.py:915: ConvergenceWarning: Optimization failed to converge. Check mle_retvals.\n",
      "  warnings.warn(\n",
      "C:\\Users\\ROG ZEPHYRUS\\anaconda3\\Data science\\lib\\site-packages\\statsmodels\\tsa\\holtwinters\\model.py:915: ConvergenceWarning: Optimization failed to converge. Check mle_retvals.\n",
      "  warnings.warn(\n",
      "C:\\Users\\ROG ZEPHYRUS\\anaconda3\\Data science\\lib\\site-packages\\statsmodels\\tsa\\holtwinters\\model.py:915: ConvergenceWarning: Optimization failed to converge. Check mle_retvals.\n",
      "  warnings.warn(\n"
     ]
    },
    {
     "name": "stdout",
     "output_type": "stream",
     "text": [
      "3044853.730756333\n",
      "3113493.4209865816\n",
      "3167248.636956286\n",
      "3227651.773997251\n",
      "3281245.312386469\n",
      "3392636.0714019206\n",
      "3464619.090333835\n",
      "3539764.026574117\n"
     ]
    },
    {
     "name": "stderr",
     "output_type": "stream",
     "text": [
      "C:\\Users\\ROG ZEPHYRUS\\anaconda3\\Data science\\lib\\site-packages\\statsmodels\\tsa\\holtwinters\\model.py:915: ConvergenceWarning: Optimization failed to converge. Check mle_retvals.\n",
      "  warnings.warn(\n",
      "C:\\Users\\ROG ZEPHYRUS\\anaconda3\\Data science\\lib\\site-packages\\statsmodels\\tsa\\holtwinters\\model.py:915: ConvergenceWarning: Optimization failed to converge. Check mle_retvals.\n",
      "  warnings.warn(\n",
      "C:\\Users\\ROG ZEPHYRUS\\anaconda3\\Data science\\lib\\site-packages\\statsmodels\\tsa\\holtwinters\\model.py:915: ConvergenceWarning: Optimization failed to converge. Check mle_retvals.\n",
      "  warnings.warn(\n",
      "C:\\Users\\ROG ZEPHYRUS\\anaconda3\\Data science\\lib\\site-packages\\statsmodels\\tsa\\holtwinters\\model.py:915: ConvergenceWarning: Optimization failed to converge. Check mle_retvals.\n",
      "  warnings.warn(\n",
      "C:\\Users\\ROG ZEPHYRUS\\anaconda3\\Data science\\lib\\site-packages\\statsmodels\\tsa\\holtwinters\\model.py:915: ConvergenceWarning: Optimization failed to converge. Check mle_retvals.\n",
      "  warnings.warn(\n",
      "C:\\Users\\ROG ZEPHYRUS\\anaconda3\\Data science\\lib\\site-packages\\statsmodels\\tsa\\holtwinters\\model.py:915: ConvergenceWarning: Optimization failed to converge. Check mle_retvals.\n",
      "  warnings.warn(\n",
      "C:\\Users\\ROG ZEPHYRUS\\anaconda3\\Data science\\lib\\site-packages\\statsmodels\\tsa\\holtwinters\\model.py:915: ConvergenceWarning: Optimization failed to converge. Check mle_retvals.\n",
      "  warnings.warn(\n",
      "C:\\Users\\ROG ZEPHYRUS\\anaconda3\\Data science\\lib\\site-packages\\statsmodels\\tsa\\holtwinters\\model.py:915: ConvergenceWarning: Optimization failed to converge. Check mle_retvals.\n",
      "  warnings.warn(\n",
      "C:\\Users\\ROG ZEPHYRUS\\anaconda3\\Data science\\lib\\site-packages\\statsmodels\\tsa\\holtwinters\\model.py:915: ConvergenceWarning: Optimization failed to converge. Check mle_retvals.\n",
      "  warnings.warn(\n"
     ]
    },
    {
     "name": "stdout",
     "output_type": "stream",
     "text": [
      "3620243.313489923\n",
      "3698831.422118304\n",
      "3761752.9745677756\n",
      "3845527.0684614987\n",
      "3935110.529059238\n",
      "4019070.407307379\n",
      "4108117.3722159886\n",
      "4202821.192617333\n"
     ]
    },
    {
     "name": "stderr",
     "output_type": "stream",
     "text": [
      "C:\\Users\\ROG ZEPHYRUS\\anaconda3\\Data science\\lib\\site-packages\\statsmodels\\tsa\\holtwinters\\model.py:915: ConvergenceWarning: Optimization failed to converge. Check mle_retvals.\n",
      "  warnings.warn(\n",
      "C:\\Users\\ROG ZEPHYRUS\\anaconda3\\Data science\\lib\\site-packages\\statsmodels\\tsa\\holtwinters\\model.py:915: ConvergenceWarning: Optimization failed to converge. Check mle_retvals.\n",
      "  warnings.warn(\n",
      "C:\\Users\\ROG ZEPHYRUS\\anaconda3\\Data science\\lib\\site-packages\\statsmodels\\tsa\\holtwinters\\model.py:915: ConvergenceWarning: Optimization failed to converge. Check mle_retvals.\n",
      "  warnings.warn(\n",
      "C:\\Users\\ROG ZEPHYRUS\\anaconda3\\Data science\\lib\\site-packages\\statsmodels\\tsa\\holtwinters\\model.py:915: ConvergenceWarning: Optimization failed to converge. Check mle_retvals.\n",
      "  warnings.warn(\n",
      "C:\\Users\\ROG ZEPHYRUS\\anaconda3\\Data science\\lib\\site-packages\\statsmodels\\tsa\\holtwinters\\model.py:915: ConvergenceWarning: Optimization failed to converge. Check mle_retvals.\n",
      "  warnings.warn(\n",
      "C:\\Users\\ROG ZEPHYRUS\\anaconda3\\Data science\\lib\\site-packages\\statsmodels\\tsa\\holtwinters\\model.py:915: ConvergenceWarning: Optimization failed to converge. Check mle_retvals.\n",
      "  warnings.warn(\n",
      "C:\\Users\\ROG ZEPHYRUS\\anaconda3\\Data science\\lib\\site-packages\\statsmodels\\tsa\\holtwinters\\model.py:915: ConvergenceWarning: Optimization failed to converge. Check mle_retvals.\n",
      "  warnings.warn(\n",
      "C:\\Users\\ROG ZEPHYRUS\\anaconda3\\Data science\\lib\\site-packages\\statsmodels\\tsa\\holtwinters\\model.py:915: ConvergenceWarning: Optimization failed to converge. Check mle_retvals.\n",
      "  warnings.warn(\n",
      "C:\\Users\\ROG ZEPHYRUS\\anaconda3\\Data science\\lib\\site-packages\\statsmodels\\tsa\\holtwinters\\model.py:915: ConvergenceWarning: Optimization failed to converge. Check mle_retvals.\n",
      "  warnings.warn(\n"
     ]
    },
    {
     "name": "stdout",
     "output_type": "stream",
     "text": [
      "4294298.931064105\n",
      "4357622.040275409\n",
      "4456065.777213095\n",
      "4558806.732098957\n",
      "4657448.347933281\n",
      "4756142.939646787\n",
      "4848115.316614139\n",
      "4937869.352263689\n",
      "5014559.040435873\n",
      "5108509.261738155\n",
      "5213460.14941927\n",
      "5310033.907774383\n"
     ]
    },
    {
     "name": "stderr",
     "output_type": "stream",
     "text": [
      "C:\\Users\\ROG ZEPHYRUS\\anaconda3\\Data science\\lib\\site-packages\\statsmodels\\tsa\\holtwinters\\model.py:915: ConvergenceWarning: Optimization failed to converge. Check mle_retvals.\n",
      "  warnings.warn(\n",
      "C:\\Users\\ROG ZEPHYRUS\\anaconda3\\Data science\\lib\\site-packages\\statsmodels\\tsa\\holtwinters\\model.py:915: ConvergenceWarning: Optimization failed to converge. Check mle_retvals.\n",
      "  warnings.warn(\n",
      "C:\\Users\\ROG ZEPHYRUS\\anaconda3\\Data science\\lib\\site-packages\\statsmodels\\tsa\\holtwinters\\model.py:915: ConvergenceWarning: Optimization failed to converge. Check mle_retvals.\n",
      "  warnings.warn(\n",
      "C:\\Users\\ROG ZEPHYRUS\\anaconda3\\Data science\\lib\\site-packages\\statsmodels\\tsa\\holtwinters\\model.py:915: ConvergenceWarning: Optimization failed to converge. Check mle_retvals.\n",
      "  warnings.warn(\n",
      "C:\\Users\\ROG ZEPHYRUS\\anaconda3\\Data science\\lib\\site-packages\\statsmodels\\tsa\\holtwinters\\model.py:915: ConvergenceWarning: Optimization failed to converge. Check mle_retvals.\n",
      "  warnings.warn(\n",
      "C:\\Users\\ROG ZEPHYRUS\\anaconda3\\Data science\\lib\\site-packages\\statsmodels\\tsa\\holtwinters\\model.py:915: ConvergenceWarning: Optimization failed to converge. Check mle_retvals.\n",
      "  warnings.warn(\n",
      "C:\\Users\\ROG ZEPHYRUS\\anaconda3\\Data science\\lib\\site-packages\\statsmodels\\tsa\\holtwinters\\model.py:915: ConvergenceWarning: Optimization failed to converge. Check mle_retvals.\n",
      "  warnings.warn(\n",
      "C:\\Users\\ROG ZEPHYRUS\\anaconda3\\Data science\\lib\\site-packages\\statsmodels\\tsa\\holtwinters\\model.py:915: ConvergenceWarning: Optimization failed to converge. Check mle_retvals.\n",
      "  warnings.warn(\n"
     ]
    },
    {
     "name": "stdout",
     "output_type": "stream",
     "text": [
      "5400735.31106619\n",
      "5492305.967234801\n",
      "5574402.833840691\n"
     ]
    },
    {
     "name": "stderr",
     "output_type": "stream",
     "text": [
      "C:\\Users\\ROG ZEPHYRUS\\anaconda3\\Data science\\lib\\site-packages\\statsmodels\\tsa\\holtwinters\\model.py:915: ConvergenceWarning: Optimization failed to converge. Check mle_retvals.\n",
      "  warnings.warn(\n",
      "C:\\Users\\ROG ZEPHYRUS\\anaconda3\\Data science\\lib\\site-packages\\statsmodels\\tsa\\holtwinters\\model.py:915: ConvergenceWarning: Optimization failed to converge. Check mle_retvals.\n",
      "  warnings.warn(\n",
      "C:\\Users\\ROG ZEPHYRUS\\anaconda3\\Data science\\lib\\site-packages\\statsmodels\\tsa\\holtwinters\\model.py:915: ConvergenceWarning: Optimization failed to converge. Check mle_retvals.\n",
      "  warnings.warn(\n"
     ]
    }
   ],
   "source": [
    "# Perform out - of - sample predictions using walk forward validation\n",
    "pred_WF = [ ]\n",
    "X = train.Confirmed.values\n",
    "# For every element in test , make a prediction , append the test point to training set and Loop ahead\n",
    "for index , i in test.iterrows ( ) :\n",
    "    model_fit = ExponentialSmoothing ( X , trend = \"additive\" , damped = True ) .fit ( )\n",
    "    pred=model_fit.predict ( )\n",
    "    print(pred[0])\n",
    "    pred_WF.append(pred[0])\n",
    "    X = np.append( X , i.Confirmed )"
   ]
  },
  {
   "cell_type": "code",
   "execution_count": 69,
   "id": "32356f36",
   "metadata": {},
   "outputs": [
    {
     "name": "stdout",
     "output_type": "stream",
     "text": [
      "11730.232427049545\n"
     ]
    },
    {
     "data": {
      "image/png": "[encoded data removed]",
      "text/plain": [
       "<Figure size 640x480 with 1 Axes>"
      ]
     },
     "metadata": {
      "needs_background": "light"
     },
     "output_type": "display_data"
    }
   ],
   "source": [
    "# Add a column in test with prediction by SARIMA model\n",
    "test ['pred_WF'] = pred_WF\n",
    "error = sqrt ( metrics.mean_squared_error ( test.Confirmed , test.pred_WF ) )\n",
    "print ( error )\n",
    "# Plot actual and predicted data\n",
    "plt.figure ( num = None , figsize = ( 8 , 6 ) , dpi = 80 )\n",
    "plt.plot ( test.Confirmed , label = \" Test Data \" )\n",
    "plt.plot ( test.pred_WF , 'r--' , label = \" Predicted Data \" )\n",
    "plt.legend ( )\n",
    "plt.title ( ' COVID - 19 Actual and Predicted Confirmed cases using DES model and walk forward validation ' )\n",
    "plt.show ( )"
   ]
  },
  {
   "cell_type": "markdown",
   "id": "e350d52c",
   "metadata": {},
   "source": [
    "So far , we contrasted the performance of statistical models with a normal train test - split which aims to predict many steps ahead in future , in our case , 94 steps\n",
    "ahead , after being trained once , against one step ahead walk - forward validation , where we predict one step ahead at a time , and eventually cover the entire\n",
    "test dataset . \n",
    "\n",
    "We could reproduce the same result each time , i.e. using walk - forward validation , our model was greatly helped and was able to perform better .\n",
    "\n",
    "Then,we done statistical models for time - series analysis and forecasting , we used highly interpretable tests , plots and models to understand and model\n",
    "various dimensions of the data . Moreover , traditional statistical methods rely on linear relationships to find structure in the data and work well on univariate\n",
    "data."
   ]
  },
  {
   "cell_type": "markdown",
   "id": "56b25d00",
   "metadata": {},
   "source": [
    "# Conclusion\n"
   ]
  },
  {
   "cell_type": "markdown",
   "id": "c8e31f31",
   "metadata": {},
   "source": [
    "• Confirmed , recovered and fatalities seem to be linearly correlated .\n",
    "\n",
    "• Adding exogenous variables for forecasting of confirmed cases along with walk forward validation gave a more\n",
    "appropriate forecast .\n",
    "\n",
    "• Traditional statistical methods rely on linear relationships to find structure in the data and work well on univariate data \n",
    "    "
   ]
  }
 ],
 "metadata": {
  "kernelspec": {
   "display_name": "Python 3 (ipykernel)",
   "language": "python",
   "name": "python3"
  },
  "language_info": {
   "codemirror_mode": {
    "name": "ipython",
    "version": 3
   },
   "file_extension": ".py",
   "mimetype": "text/x-python",
   "name": "python",
   "nbconvert_exporter": "python",
   "pygments_lexer": "ipython3",
   "version": "3.9.7"
  }
 },
 "nbformat": 4,
 "nbformat_minor": 5
}
